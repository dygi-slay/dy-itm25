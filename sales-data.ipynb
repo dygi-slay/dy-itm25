{
 "cells": [
  {
   "cell_type": "code",
   "execution_count": 2,
   "metadata": {},
   "outputs": [],
   "source": [
    "import numpy as np\n",
    "import pandas as pd\n",
    "import matplotlib.pyplot as plt"
   ]
  },
  {
   "cell_type": "code",
   "execution_count": 3,
   "metadata": {},
   "outputs": [],
   "source": [
    "customer = pd.read_json('/Users/erica/Desktop/itmgt/GITHUB/dy-itm25/dim_customer.json')\n",
    "invoice = pd.read_csv('/Users/erica/Desktop/itmgt/GITHUB/dy-itm25/fct_invoice.csv')"
   ]
  },
  {
   "cell_type": "code",
   "execution_count": 4,
   "metadata": {},
   "outputs": [
    {
     "data": {
      "text/html": [
       "<div>\n",
       "<style scoped>\n",
       "    .dataframe tbody tr th:only-of-type {\n",
       "        vertical-align: middle;\n",
       "    }\n",
       "\n",
       "    .dataframe tbody tr th {\n",
       "        vertical-align: top;\n",
       "    }\n",
       "\n",
       "    .dataframe thead th {\n",
       "        text-align: right;\n",
       "    }\n",
       "</style>\n",
       "<table border=\"1\" class=\"dataframe\">\n",
       "  <thead>\n",
       "    <tr style=\"text-align: right;\">\n",
       "      <th></th>\n",
       "      <th>age</th>\n",
       "      <th>first_name</th>\n",
       "      <th>gender</th>\n",
       "      <th>id</th>\n",
       "      <th>last_name</th>\n",
       "    </tr>\n",
       "  </thead>\n",
       "  <tbody>\n",
       "    <tr>\n",
       "      <th>0</th>\n",
       "      <td>48.0</td>\n",
       "      <td>Nicholas</td>\n",
       "      <td>M</td>\n",
       "      <td>0</td>\n",
       "      <td>Flores</td>\n",
       "    </tr>\n",
       "    <tr>\n",
       "      <th>1</th>\n",
       "      <td>NaN</td>\n",
       "      <td>Jeffery</td>\n",
       "      <td>M</td>\n",
       "      <td>1</td>\n",
       "      <td>Rowe</td>\n",
       "    </tr>\n",
       "    <tr>\n",
       "      <th>2</th>\n",
       "      <td>57.0</td>\n",
       "      <td>Alexis</td>\n",
       "      <td>F</td>\n",
       "      <td>2</td>\n",
       "      <td>Benton</td>\n",
       "    </tr>\n",
       "    <tr>\n",
       "      <th>3</th>\n",
       "      <td>73.0</td>\n",
       "      <td>Amy</td>\n",
       "      <td>F</td>\n",
       "      <td>3</td>\n",
       "      <td>Johnson</td>\n",
       "    </tr>\n",
       "    <tr>\n",
       "      <th>4</th>\n",
       "      <td>20.0</td>\n",
       "      <td>David</td>\n",
       "      <td>M</td>\n",
       "      <td>4</td>\n",
       "      <td>Moore</td>\n",
       "    </tr>\n",
       "    <tr>\n",
       "      <th>...</th>\n",
       "      <td>...</td>\n",
       "      <td>...</td>\n",
       "      <td>...</td>\n",
       "      <td>...</td>\n",
       "      <td>...</td>\n",
       "    </tr>\n",
       "    <tr>\n",
       "      <th>5186</th>\n",
       "      <td>NaN</td>\n",
       "      <td>Arthur</td>\n",
       "      <td>M</td>\n",
       "      <td>9428</td>\n",
       "      <td>Harris</td>\n",
       "    </tr>\n",
       "    <tr>\n",
       "      <th>5187</th>\n",
       "      <td>NaN</td>\n",
       "      <td>David</td>\n",
       "      <td>M</td>\n",
       "      <td>9494</td>\n",
       "      <td>Roy</td>\n",
       "    </tr>\n",
       "    <tr>\n",
       "      <th>5188</th>\n",
       "      <td>85.0</td>\n",
       "      <td>Thomas</td>\n",
       "      <td>M</td>\n",
       "      <td>10350</td>\n",
       "      <td>Turner</td>\n",
       "    </tr>\n",
       "    <tr>\n",
       "      <th>5189</th>\n",
       "      <td>NaN</td>\n",
       "      <td>April</td>\n",
       "      <td>F</td>\n",
       "      <td>10587</td>\n",
       "      <td>Sanchez</td>\n",
       "    </tr>\n",
       "    <tr>\n",
       "      <th>5190</th>\n",
       "      <td>NaN</td>\n",
       "      <td>Andrew</td>\n",
       "      <td>M</td>\n",
       "      <td>10934</td>\n",
       "      <td>Compton</td>\n",
       "    </tr>\n",
       "  </tbody>\n",
       "</table>\n",
       "<p>5191 rows × 5 columns</p>\n",
       "</div>"
      ],
      "text/plain": [
       "       age first_name gender     id last_name\n",
       "0     48.0   Nicholas      M      0    Flores\n",
       "1      NaN    Jeffery      M      1      Rowe\n",
       "2     57.0     Alexis      F      2    Benton\n",
       "3     73.0        Amy      F      3   Johnson\n",
       "4     20.0      David      M      4     Moore\n",
       "...    ...        ...    ...    ...       ...\n",
       "5186   NaN     Arthur      M   9428    Harris\n",
       "5187   NaN      David      M   9494       Roy\n",
       "5188  85.0     Thomas      M  10350    Turner\n",
       "5189   NaN      April      F  10587   Sanchez\n",
       "5190   NaN     Andrew      M  10934   Compton\n",
       "\n",
       "[5191 rows x 5 columns]"
      ]
     },
     "execution_count": 4,
     "metadata": {},
     "output_type": "execute_result"
    }
   ],
   "source": [
    "customer"
   ]
  },
  {
   "cell_type": "code",
   "execution_count": null,
   "metadata": {},
   "outputs": [],
   "source": []
  },
  {
   "attachments": {},
   "cell_type": "markdown",
   "metadata": {},
   "source": [
    "# Easy\n",
    "<font color=7EBC80>**How many unique customers are in the dataset?**</font>"
   ]
  },
  {
   "cell_type": "code",
   "execution_count": 5,
   "metadata": {},
   "outputs": [
    {
     "data": {
      "text/plain": [
       "5191"
      ]
     },
     "execution_count": 5,
     "metadata": {},
     "output_type": "execute_result"
    }
   ],
   "source": [
    "customer_id = invoice['customer_id']\n",
    "\n",
    "customer_id.nunique()"
   ]
  },
  {
   "attachments": {},
   "cell_type": "markdown",
   "metadata": {},
   "source": [
    "<u>*answer: there are 5191 unique customers in the dataset*<u>"
   ]
  },
  {
   "attachments": {},
   "cell_type": "markdown",
   "metadata": {},
   "source": [
    "<font color=7EBC80>**What are the different categories of products available? How many unique categories are there?**</font>"
   ]
  },
  {
   "cell_type": "code",
   "execution_count": 6,
   "metadata": {},
   "outputs": [
    {
     "data": {
      "text/plain": [
       "array(['Clothing', 'Shoes', 'Books', 'Cosmetics', 'Food & Beverage',\n",
       "       'Toys', 'Technology', 'Souvenir'], dtype=object)"
      ]
     },
     "execution_count": 6,
     "metadata": {},
     "output_type": "execute_result"
    }
   ],
   "source": [
    "category = invoice['category']\n",
    "\n",
    "category.unique()"
   ]
  },
  {
   "cell_type": "code",
   "execution_count": 7,
   "metadata": {},
   "outputs": [
    {
     "data": {
      "text/plain": [
       "8"
      ]
     },
     "execution_count": 7,
     "metadata": {},
     "output_type": "execute_result"
    }
   ],
   "source": [
    "category.nunique()"
   ]
  },
  {
   "attachments": {},
   "cell_type": "markdown",
   "metadata": {},
   "source": [
    "<u>*answer: there are 8 unique categories - clothing, shoes, books, cosmetics, food & bevarage, toys, technology, and souvenir*<u>"
   ]
  },
  {
   "attachments": {},
   "cell_type": "markdown",
   "metadata": {},
   "source": [
    "<font color=7EBC80>**Which payment method is the most popular? How many times was it used?**</font>"
   ]
  },
  {
   "cell_type": "code",
   "execution_count": 8,
   "metadata": {},
   "outputs": [],
   "source": [
    "payment_method = invoice['payment_method']"
   ]
  },
  {
   "cell_type": "code",
   "execution_count": 9,
   "metadata": {},
   "outputs": [
    {
     "data": {
      "text/plain": [
       "payment_method\n",
       "Cash           44447\n",
       "Credit Card    34931\n",
       "Debit Card     20079\n",
       "Name: count, dtype: int64"
      ]
     },
     "execution_count": 9,
     "metadata": {},
     "output_type": "execute_result"
    }
   ],
   "source": [
    "payment_method.value_counts()"
   ]
  },
  {
   "attachments": {},
   "cell_type": "markdown",
   "metadata": {},
   "source": [
    "<u>*answer: cash is the most popular payment method, used 44,447 times*<u>"
   ]
  },
  {
   "attachments": {},
   "cell_type": "markdown",
   "metadata": {},
   "source": [
    "# Medium\n",
    "<font color=7EBC80>**What are the three most popular categories, by total sales?**</font>"
   ]
  },
  {
   "cell_type": "code",
   "execution_count": 10,
   "metadata": {},
   "outputs": [],
   "source": [
    "price = invoice['price']\n",
    "quantity = invoice['quantity']\n",
    "\n",
    "total_price = price * quantity\n",
    "\n",
    "invoice.insert(5,'total_price',total_price,True)"
   ]
  },
  {
   "cell_type": "code",
   "execution_count": 11,
   "metadata": {},
   "outputs": [
    {
     "data": {
      "text/plain": [
       "category\n",
       "Books              7.0\n",
       "Clothing           1.0\n",
       "Cosmetics          4.0\n",
       "Food & Beverage    6.0\n",
       "Shoes              2.0\n",
       "Souvenir           8.0\n",
       "Technology         3.0\n",
       "Toys               5.0\n",
       "Name: total_price, dtype: float64"
      ]
     },
     "execution_count": 11,
     "metadata": {},
     "output_type": "execute_result"
    }
   ],
   "source": [
    "invoice.groupby('category').sum()['total_price'].rank(ascending=False)"
   ]
  },
  {
   "attachments": {},
   "cell_type": "markdown",
   "metadata": {},
   "source": [
    "<u>*answer: the three most popular categories by total sales are clothing, shoes, and technology*<u>"
   ]
  },
  {
   "attachments": {},
   "cell_type": "markdown",
   "metadata": {},
   "source": [
    "<font color=7EBC80>**What are the total sales attributed to customers over the age of 45?**</font>"
   ]
  },
  {
   "cell_type": "code",
   "execution_count": 12,
   "metadata": {},
   "outputs": [],
   "source": [
    "merged = pd.merge(\n",
    "    invoice , \n",
    "    customer,\n",
    "    how = 'inner',\n",
    "    left_on = 'customer_id',\n",
    "    right_on = 'id'\n",
    ")"
   ]
  },
  {
   "cell_type": "code",
   "execution_count": 13,
   "metadata": {},
   "outputs": [
    {
     "data": {
      "text/plain": [
       "82039768.15"
      ]
     },
     "execution_count": 13,
     "metadata": {},
     "output_type": "execute_result"
    }
   ],
   "source": [
    "age = merged['age']\n",
    "\n",
    "over_45 = age > 45\n",
    "\n",
    "merged[over_45].sum()['total_price']"
   ]
  },
  {
   "attachments": {},
   "cell_type": "markdown",
   "metadata": {},
   "source": [
    "<u>*answer: the total sales attributed to customers over the age of 45 is 82,039,768.15*<u>"
   ]
  },
  {
   "attachments": {},
   "cell_type": "markdown",
   "metadata": {},
   "source": [
    "<font color=7EBC80>**How is the data distributed across different invoice dates? Are there any seasonal trends or patterns? (Use a graph for this.)**</font>"
   ]
  },
  {
   "cell_type": "code",
   "execution_count": 24,
   "metadata": {},
   "outputs": [
    {
     "data": {
      "text/html": [
       "<div>\n",
       "<style scoped>\n",
       "    .dataframe tbody tr th:only-of-type {\n",
       "        vertical-align: middle;\n",
       "    }\n",
       "\n",
       "    .dataframe tbody tr th {\n",
       "        vertical-align: top;\n",
       "    }\n",
       "\n",
       "    .dataframe thead th {\n",
       "        text-align: right;\n",
       "    }\n",
       "</style>\n",
       "<table border=\"1\" class=\"dataframe\">\n",
       "  <thead>\n",
       "    <tr style=\"text-align: right;\">\n",
       "      <th></th>\n",
       "      <th>invoice_no</th>\n",
       "      <th>customer_id</th>\n",
       "      <th>category</th>\n",
       "      <th>quantity</th>\n",
       "      <th>price</th>\n",
       "      <th>total_price</th>\n",
       "      <th>payment_method</th>\n",
       "      <th>invoice_date</th>\n",
       "      <th>shopping_mall</th>\n",
       "      <th>age</th>\n",
       "      <th>first_name</th>\n",
       "      <th>gender</th>\n",
       "      <th>id</th>\n",
       "      <th>last_name</th>\n",
       "      <th>year</th>\n",
       "    </tr>\n",
       "  </thead>\n",
       "  <tbody>\n",
       "    <tr>\n",
       "      <th>0</th>\n",
       "      <td>I138884</td>\n",
       "      <td>229</td>\n",
       "      <td>Clothing</td>\n",
       "      <td>5</td>\n",
       "      <td>1500.40</td>\n",
       "      <td>7502.00</td>\n",
       "      <td>Credit Card</td>\n",
       "      <td>2022-08-05</td>\n",
       "      <td>Kanyon</td>\n",
       "      <td>NaN</td>\n",
       "      <td>William</td>\n",
       "      <td>M</td>\n",
       "      <td>229</td>\n",
       "      <td>Anderson</td>\n",
       "      <td>2022</td>\n",
       "    </tr>\n",
       "    <tr>\n",
       "      <th>1</th>\n",
       "      <td>I126377</td>\n",
       "      <td>229</td>\n",
       "      <td>Cosmetics</td>\n",
       "      <td>2</td>\n",
       "      <td>81.32</td>\n",
       "      <td>162.64</td>\n",
       "      <td>Credit Card</td>\n",
       "      <td>2021-04-05</td>\n",
       "      <td>Metrocity</td>\n",
       "      <td>NaN</td>\n",
       "      <td>William</td>\n",
       "      <td>M</td>\n",
       "      <td>229</td>\n",
       "      <td>Anderson</td>\n",
       "      <td>2021</td>\n",
       "    </tr>\n",
       "    <tr>\n",
       "      <th>2</th>\n",
       "      <td>I178419</td>\n",
       "      <td>229</td>\n",
       "      <td>Shoes</td>\n",
       "      <td>3</td>\n",
       "      <td>1800.51</td>\n",
       "      <td>5401.53</td>\n",
       "      <td>Debit Card</td>\n",
       "      <td>2021-06-01</td>\n",
       "      <td>Istinye Park</td>\n",
       "      <td>NaN</td>\n",
       "      <td>William</td>\n",
       "      <td>M</td>\n",
       "      <td>229</td>\n",
       "      <td>Anderson</td>\n",
       "      <td>2021</td>\n",
       "    </tr>\n",
       "    <tr>\n",
       "      <th>3</th>\n",
       "      <td>I847727</td>\n",
       "      <td>229</td>\n",
       "      <td>Clothing</td>\n",
       "      <td>3</td>\n",
       "      <td>900.24</td>\n",
       "      <td>2700.72</td>\n",
       "      <td>Credit Card</td>\n",
       "      <td>2022-08-21</td>\n",
       "      <td>Zorlu Center</td>\n",
       "      <td>NaN</td>\n",
       "      <td>William</td>\n",
       "      <td>M</td>\n",
       "      <td>229</td>\n",
       "      <td>Anderson</td>\n",
       "      <td>2022</td>\n",
       "    </tr>\n",
       "    <tr>\n",
       "      <th>4</th>\n",
       "      <td>I219251</td>\n",
       "      <td>229</td>\n",
       "      <td>Shoes</td>\n",
       "      <td>5</td>\n",
       "      <td>3000.85</td>\n",
       "      <td>15004.25</td>\n",
       "      <td>Credit Card</td>\n",
       "      <td>2022-06-23</td>\n",
       "      <td>Istinye Park</td>\n",
       "      <td>NaN</td>\n",
       "      <td>William</td>\n",
       "      <td>M</td>\n",
       "      <td>229</td>\n",
       "      <td>Anderson</td>\n",
       "      <td>2022</td>\n",
       "    </tr>\n",
       "    <tr>\n",
       "      <th>...</th>\n",
       "      <td>...</td>\n",
       "      <td>...</td>\n",
       "      <td>...</td>\n",
       "      <td>...</td>\n",
       "      <td>...</td>\n",
       "      <td>...</td>\n",
       "      <td>...</td>\n",
       "      <td>...</td>\n",
       "      <td>...</td>\n",
       "      <td>...</td>\n",
       "      <td>...</td>\n",
       "      <td>...</td>\n",
       "      <td>...</td>\n",
       "      <td>...</td>\n",
       "      <td>...</td>\n",
       "    </tr>\n",
       "    <tr>\n",
       "      <th>99452</th>\n",
       "      <td>I198027</td>\n",
       "      <td>4973</td>\n",
       "      <td>Shoes</td>\n",
       "      <td>1</td>\n",
       "      <td>600.17</td>\n",
       "      <td>600.17</td>\n",
       "      <td>Cash</td>\n",
       "      <td>2021-11-08</td>\n",
       "      <td>Kanyon</td>\n",
       "      <td>NaN</td>\n",
       "      <td>Melissa</td>\n",
       "      <td>F</td>\n",
       "      <td>4973</td>\n",
       "      <td>Bell</td>\n",
       "      <td>2021</td>\n",
       "    </tr>\n",
       "    <tr>\n",
       "      <th>99453</th>\n",
       "      <td>I989120</td>\n",
       "      <td>6161</td>\n",
       "      <td>Books</td>\n",
       "      <td>5</td>\n",
       "      <td>75.75</td>\n",
       "      <td>378.75</td>\n",
       "      <td>Cash</td>\n",
       "      <td>2021-01-08</td>\n",
       "      <td>Viaport Outlet</td>\n",
       "      <td>36.0</td>\n",
       "      <td>Leslie</td>\n",
       "      <td>F</td>\n",
       "      <td>6161</td>\n",
       "      <td>Bass</td>\n",
       "      <td>2021</td>\n",
       "    </tr>\n",
       "    <tr>\n",
       "      <th>99454</th>\n",
       "      <td>I791963</td>\n",
       "      <td>6779</td>\n",
       "      <td>Clothing</td>\n",
       "      <td>5</td>\n",
       "      <td>1500.40</td>\n",
       "      <td>7502.00</td>\n",
       "      <td>Credit Card</td>\n",
       "      <td>2021-03-06</td>\n",
       "      <td>Metropol AVM</td>\n",
       "      <td>NaN</td>\n",
       "      <td>Kelly</td>\n",
       "      <td>F</td>\n",
       "      <td>6779</td>\n",
       "      <td>Roberts</td>\n",
       "      <td>2021</td>\n",
       "    </tr>\n",
       "    <tr>\n",
       "      <th>99455</th>\n",
       "      <td>I100582</td>\n",
       "      <td>8386</td>\n",
       "      <td>Clothing</td>\n",
       "      <td>2</td>\n",
       "      <td>600.16</td>\n",
       "      <td>1200.32</td>\n",
       "      <td>Cash</td>\n",
       "      <td>2021-11-02</td>\n",
       "      <td>Istinye Park</td>\n",
       "      <td>47.0</td>\n",
       "      <td>Shawn</td>\n",
       "      <td>M</td>\n",
       "      <td>8386</td>\n",
       "      <td>Perez</td>\n",
       "      <td>2021</td>\n",
       "    </tr>\n",
       "    <tr>\n",
       "      <th>99456</th>\n",
       "      <td>I934204</td>\n",
       "      <td>4761</td>\n",
       "      <td>Cosmetics</td>\n",
       "      <td>4</td>\n",
       "      <td>162.64</td>\n",
       "      <td>650.56</td>\n",
       "      <td>Cash</td>\n",
       "      <td>2022-08-31</td>\n",
       "      <td>Forum Istanbul</td>\n",
       "      <td>52.0</td>\n",
       "      <td>Ashley</td>\n",
       "      <td>F</td>\n",
       "      <td>4761</td>\n",
       "      <td>Jackson</td>\n",
       "      <td>2022</td>\n",
       "    </tr>\n",
       "  </tbody>\n",
       "</table>\n",
       "<p>99457 rows × 15 columns</p>\n",
       "</div>"
      ],
      "text/plain": [
       "      invoice_no  customer_id   category  quantity    price  total_price  \\\n",
       "0        I138884          229   Clothing         5  1500.40      7502.00   \n",
       "1        I126377          229  Cosmetics         2    81.32       162.64   \n",
       "2        I178419          229      Shoes         3  1800.51      5401.53   \n",
       "3        I847727          229   Clothing         3   900.24      2700.72   \n",
       "4        I219251          229      Shoes         5  3000.85     15004.25   \n",
       "...          ...          ...        ...       ...      ...          ...   \n",
       "99452    I198027         4973      Shoes         1   600.17       600.17   \n",
       "99453    I989120         6161      Books         5    75.75       378.75   \n",
       "99454    I791963         6779   Clothing         5  1500.40      7502.00   \n",
       "99455    I100582         8386   Clothing         2   600.16      1200.32   \n",
       "99456    I934204         4761  Cosmetics         4   162.64       650.56   \n",
       "\n",
       "      payment_method invoice_date   shopping_mall   age first_name gender  \\\n",
       "0        Credit Card   2022-08-05          Kanyon   NaN    William      M   \n",
       "1        Credit Card   2021-04-05       Metrocity   NaN    William      M   \n",
       "2         Debit Card   2021-06-01    Istinye Park   NaN    William      M   \n",
       "3        Credit Card   2022-08-21    Zorlu Center   NaN    William      M   \n",
       "4        Credit Card   2022-06-23    Istinye Park   NaN    William      M   \n",
       "...              ...          ...             ...   ...        ...    ...   \n",
       "99452           Cash   2021-11-08          Kanyon   NaN    Melissa      F   \n",
       "99453           Cash   2021-01-08  Viaport Outlet  36.0     Leslie      F   \n",
       "99454    Credit Card   2021-03-06    Metropol AVM   NaN      Kelly      F   \n",
       "99455           Cash   2021-11-02    Istinye Park  47.0      Shawn      M   \n",
       "99456           Cash   2022-08-31  Forum Istanbul  52.0     Ashley      F   \n",
       "\n",
       "         id last_name  year  \n",
       "0       229  Anderson  2022  \n",
       "1       229  Anderson  2021  \n",
       "2       229  Anderson  2021  \n",
       "3       229  Anderson  2022  \n",
       "4       229  Anderson  2022  \n",
       "...     ...       ...   ...  \n",
       "99452  4973      Bell  2021  \n",
       "99453  6161      Bass  2021  \n",
       "99454  6779   Roberts  2021  \n",
       "99455  8386     Perez  2021  \n",
       "99456  4761   Jackson  2022  \n",
       "\n",
       "[99457 rows x 15 columns]"
      ]
     },
     "execution_count": 24,
     "metadata": {},
     "output_type": "execute_result"
    }
   ],
   "source": [
    "merged"
   ]
  },
  {
   "cell_type": "code",
   "execution_count": 19,
   "metadata": {},
   "outputs": [],
   "source": [
    "merged['invoice_date'] = pd.to_datetime(merged['invoice_date'],format='mixed', dayfirst=True)\n",
    "\n",
    "date = merged['invoice_date']"
   ]
  },
  {
   "cell_type": "code",
   "execution_count": 23,
   "metadata": {},
   "outputs": [],
   "source": [
    "merged['year'] = merged['invoice_date'].dt.year"
   ]
  },
  {
   "cell_type": "code",
   "execution_count": 26,
   "metadata": {},
   "outputs": [
    {
     "data": {
      "image/png": "[encoded data removed]",
      "text/plain": [
       "<Figure size 640x480 with 1 Axes>"
      ]
     },
     "metadata": {},
     "output_type": "display_data"
    }
   ],
   "source": [
    "import matplotlib.pyplot as plt\n",
    "\n",
    "year_list = merged['year'].unique().tolist()\n",
    "year_list.sort()\n",
    "quarterly_sales_by_year = []\n",
    "quarterly_sales = []\n",
    "quarters = ['Q1','Q2','Q3','Q4']\n",
    "num_quarters = []\n",
    "x_axis = []\n",
    "\n",
    "for year in year_list:\n",
    "    quarterly_sales_by_year.append(list(merged.loc[merged['year'] == year].groupby(merged.invoice_date.dt.quarter)['total_price'].sum()/1000000))\n",
    "    quarterly_sales.extend(list(merged.loc[merged['year'] == year].groupby(merged.invoice_date.dt.quarter)['total_price'].sum()/1000000))\n",
    "    \n",
    "for i in range(3):\n",
    "    num_quarters.append(len(quarterly_sales_by_year[i]))\n",
    "    \n",
    "for year, num_quarter in zip(year_list, num_quarters):\n",
    "    for quarter in range(1, num_quarter + 1):\n",
    "        x_axis.append(f\"{year} Q{quarter}\")\n",
    "\n",
    "fig, ax = plt.subplots()\n",
    "\n",
    "ax.bar(x_axis, quarterly_sales)\n",
    "\n",
    "ax.set_ylabel('Sales (in millions)')\n",
    "ax.set_title('Quarterly Sales')\n",
    "plt.xticks(rotation=30)\n",
    "plt.show()"
   ]
  },
  {
   "attachments": {},
   "cell_type": "markdown",
   "metadata": {},
   "source": [
    "\n",
    "# Hard\n",
    "<font color=7EBC80>**Create a pivot table showing the breakdown of sales across these dimensions, in this order: category, decade age range (e.g., 10-19, 20-29, and so forth).**</font>"
   ]
  },
  {
   "cell_type": "code",
   "execution_count": null,
   "metadata": {},
   "outputs": [],
   "source": [
    "merged"
   ]
  },
  {
   "cell_type": "code",
   "execution_count": null,
   "metadata": {},
   "outputs": [
    {
     "data": {
      "text/html": [
       "<div>\n",
       "<style scoped>\n",
       "    .dataframe tbody tr th:only-of-type {\n",
       "        vertical-align: middle;\n",
       "    }\n",
       "\n",
       "    .dataframe tbody tr th {\n",
       "        vertical-align: top;\n",
       "    }\n",
       "\n",
       "    .dataframe thead th {\n",
       "        text-align: right;\n",
       "    }\n",
       "</style>\n",
       "<table border=\"1\" class=\"dataframe\">\n",
       "  <thead>\n",
       "    <tr style=\"text-align: right;\">\n",
       "      <th>age_range</th>\n",
       "      <th>0-9</th>\n",
       "      <th>10-19</th>\n",
       "      <th>20-29</th>\n",
       "      <th>30-39</th>\n",
       "      <th>40-49</th>\n",
       "      <th>50-59</th>\n",
       "      <th>60-69</th>\n",
       "      <th>70-79</th>\n",
       "      <th>80-89</th>\n",
       "      <th>90-99</th>\n",
       "    </tr>\n",
       "    <tr>\n",
       "      <th>category</th>\n",
       "      <th></th>\n",
       "      <th></th>\n",
       "      <th></th>\n",
       "      <th></th>\n",
       "      <th></th>\n",
       "      <th></th>\n",
       "      <th></th>\n",
       "      <th></th>\n",
       "      <th></th>\n",
       "      <th></th>\n",
       "    </tr>\n",
       "  </thead>\n",
       "  <tbody>\n",
       "    <tr>\n",
       "      <th>Books</th>\n",
       "      <td>0.0</td>\n",
       "      <td>7923.45</td>\n",
       "      <td>76022.70</td>\n",
       "      <td>87157.95</td>\n",
       "      <td>87885.15</td>\n",
       "      <td>72735.15</td>\n",
       "      <td>81885.75</td>\n",
       "      <td>57706.35</td>\n",
       "      <td>29224.35</td>\n",
       "      <td>0.0</td>\n",
       "    </tr>\n",
       "    <tr>\n",
       "      <th>Clothing</th>\n",
       "      <td>0.0</td>\n",
       "      <td>1144505.12</td>\n",
       "      <td>9959955.28</td>\n",
       "      <td>11540776.72</td>\n",
       "      <td>11447451.84</td>\n",
       "      <td>9943150.80</td>\n",
       "      <td>11083154.72</td>\n",
       "      <td>8061649.20</td>\n",
       "      <td>4812382.96</td>\n",
       "      <td>0.0</td>\n",
       "    </tr>\n",
       "    <tr>\n",
       "      <th>Cosmetics</th>\n",
       "      <td>0.0</td>\n",
       "      <td>65991.18</td>\n",
       "      <td>583796.28</td>\n",
       "      <td>731310.76</td>\n",
       "      <td>682396.78</td>\n",
       "      <td>563954.20</td>\n",
       "      <td>669832.84</td>\n",
       "      <td>443722.58</td>\n",
       "      <td>274495.66</td>\n",
       "      <td>0.0</td>\n",
       "    </tr>\n",
       "    <tr>\n",
       "      <th>Food &amp; Beverage</th>\n",
       "      <td>0.0</td>\n",
       "      <td>9434.92</td>\n",
       "      <td>68633.29</td>\n",
       "      <td>87911.07</td>\n",
       "      <td>91922.48</td>\n",
       "      <td>72132.16</td>\n",
       "      <td>81488.63</td>\n",
       "      <td>58256.97</td>\n",
       "      <td>33879.94</td>\n",
       "      <td>0.0</td>\n",
       "    </tr>\n",
       "    <tr>\n",
       "      <th>Shoes</th>\n",
       "      <td>0.0</td>\n",
       "      <td>634379.69</td>\n",
       "      <td>5571978.28</td>\n",
       "      <td>7303468.73</td>\n",
       "      <td>7163028.95</td>\n",
       "      <td>5778436.76</td>\n",
       "      <td>6131336.72</td>\n",
       "      <td>4675324.30</td>\n",
       "      <td>2827400.87</td>\n",
       "      <td>0.0</td>\n",
       "    </tr>\n",
       "    <tr>\n",
       "      <th>Souvenir</th>\n",
       "      <td>0.0</td>\n",
       "      <td>6181.71</td>\n",
       "      <td>54438.93</td>\n",
       "      <td>63834.66</td>\n",
       "      <td>68444.55</td>\n",
       "      <td>54966.78</td>\n",
       "      <td>57418.35</td>\n",
       "      <td>38216.34</td>\n",
       "      <td>26662.29</td>\n",
       "      <td>0.0</td>\n",
       "    </tr>\n",
       "    <tr>\n",
       "      <th>Technology</th>\n",
       "      <td>0.0</td>\n",
       "      <td>739200.00</td>\n",
       "      <td>5053650.00</td>\n",
       "      <td>6298950.00</td>\n",
       "      <td>6082650.00</td>\n",
       "      <td>4458300.00</td>\n",
       "      <td>5421150.00</td>\n",
       "      <td>3808350.00</td>\n",
       "      <td>2134650.00</td>\n",
       "      <td>0.0</td>\n",
       "    </tr>\n",
       "    <tr>\n",
       "      <th>Toys</th>\n",
       "      <td>0.0</td>\n",
       "      <td>35911.68</td>\n",
       "      <td>366392.32</td>\n",
       "      <td>424704.00</td>\n",
       "      <td>408253.44</td>\n",
       "      <td>330516.48</td>\n",
       "      <td>370693.12</td>\n",
       "      <td>293888.00</td>\n",
       "      <td>162856.96</td>\n",
       "      <td>0.0</td>\n",
       "    </tr>\n",
       "  </tbody>\n",
       "</table>\n",
       "</div>"
      ],
      "text/plain": [
       "age_range        0-9       10-19       20-29        30-39        40-49  \\\n",
       "category                                                                 \n",
       "Books            0.0     7923.45    76022.70     87157.95     87885.15   \n",
       "Clothing         0.0  1144505.12  9959955.28  11540776.72  11447451.84   \n",
       "Cosmetics        0.0    65991.18   583796.28    731310.76    682396.78   \n",
       "Food & Beverage  0.0     9434.92    68633.29     87911.07     91922.48   \n",
       "Shoes            0.0   634379.69  5571978.28   7303468.73   7163028.95   \n",
       "Souvenir         0.0     6181.71    54438.93     63834.66     68444.55   \n",
       "Technology       0.0   739200.00  5053650.00   6298950.00   6082650.00   \n",
       "Toys             0.0    35911.68   366392.32    424704.00    408253.44   \n",
       "\n",
       "age_range             50-59        60-69       70-79       80-89  90-99  \n",
       "category                                                                 \n",
       "Books              72735.15     81885.75    57706.35    29224.35    0.0  \n",
       "Clothing         9943150.80  11083154.72  8061649.20  4812382.96    0.0  \n",
       "Cosmetics         563954.20    669832.84   443722.58   274495.66    0.0  \n",
       "Food & Beverage    72132.16     81488.63    58256.97    33879.94    0.0  \n",
       "Shoes            5778436.76   6131336.72  4675324.30  2827400.87    0.0  \n",
       "Souvenir           54966.78     57418.35    38216.34    26662.29    0.0  \n",
       "Technology       4458300.00   5421150.00  3808350.00  2134650.00    0.0  \n",
       "Toys              330516.48    370693.12   293888.00   162856.96    0.0  "
      ]
     },
     "execution_count": 12,
     "metadata": {},
     "output_type": "execute_result"
    }
   ],
   "source": [
    "categories = list(merged['category'].unique())\n",
    "\n",
    "labels = []\n",
    "for i in range(10):\n",
    "    start_age = i * 10\n",
    "    end_age = start_age + 9\n",
    "    range_label = f\"{start_age}-{end_age}\"\n",
    "    labels.append(range_label)\n",
    "\n",
    "    bins = [0, 9, 19, 29, 39, 49, 59, 69, 79, 89, 99]\n",
    "\n",
    "merged['age_range'] = pd.cut(merged['age'], \n",
    "                             bins=bins, \n",
    "                             labels=labels, \n",
    "                             right=False)\n",
    "\n",
    "pd.pivot_table(merged, values='total_price', \n",
    "               index='category',\n",
    "               columns='age_range', \n",
    "               aggfunc='sum')"
   ]
  }
 ],
 "metadata": {
  "kernelspec": {
   "display_name": "env",
   "language": "python",
   "name": "python3"
  },
  "language_info": {
   "codemirror_mode": {
    "name": "ipython",
    "version": 3
   },
   "file_extension": ".py",
   "mimetype": "text/x-python",
   "name": "python",
   "nbconvert_exporter": "python",
   "pygments_lexer": "ipython3",
   "version": "3.10.9"
  },
  "orig_nbformat": 4
 },
 "nbformat": 4,
 "nbformat_minor": 2
}
