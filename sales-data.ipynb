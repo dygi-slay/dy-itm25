{
 "cells": [
  {
   "cell_type": "code",
   "execution_count": 3,
   "metadata": {},
   "outputs": [],
   "source": [
    "import numpy as np\n",
    "import pandas as pd\n",
    "import matplotlib.pyplot as plt"
   ]
  },
  {
   "cell_type": "code",
   "execution_count": 4,
   "metadata": {},
   "outputs": [],
   "source": [
    "customer = pd.read_json('/Users/erica/Desktop/itmgt/GITHUB/dy-itm25/dim_customer.json')\n",
    "invoice = pd.read_csv('/Users/erica/Desktop/itmgt/GITHUB/dy-itm25/fct_invoice.csv')"
   ]
  },
  {
   "cell_type": "code",
   "execution_count": 5,
   "metadata": {},
   "outputs": [
    {
     "data": {
      "text/html": [
       "<div>\n",
       "<style scoped>\n",
       "    .dataframe tbody tr th:only-of-type {\n",
       "        vertical-align: middle;\n",
       "    }\n",
       "\n",
       "    .dataframe tbody tr th {\n",
       "        vertical-align: top;\n",
       "    }\n",
       "\n",
       "    .dataframe thead th {\n",
       "        text-align: right;\n",
       "    }\n",
       "</style>\n",
       "<table border=\"1\" class=\"dataframe\">\n",
       "  <thead>\n",
       "    <tr style=\"text-align: right;\">\n",
       "      <th></th>\n",
       "      <th>age</th>\n",
       "      <th>first_name</th>\n",
       "      <th>gender</th>\n",
       "      <th>id</th>\n",
       "      <th>last_name</th>\n",
       "    </tr>\n",
       "  </thead>\n",
       "  <tbody>\n",
       "    <tr>\n",
       "      <th>0</th>\n",
       "      <td>48.0</td>\n",
       "      <td>Nicholas</td>\n",
       "      <td>M</td>\n",
       "      <td>0</td>\n",
       "      <td>Flores</td>\n",
       "    </tr>\n",
       "    <tr>\n",
       "      <th>1</th>\n",
       "      <td>NaN</td>\n",
       "      <td>Jeffery</td>\n",
       "      <td>M</td>\n",
       "      <td>1</td>\n",
       "      <td>Rowe</td>\n",
       "    </tr>\n",
       "    <tr>\n",
       "      <th>2</th>\n",
       "      <td>57.0</td>\n",
       "      <td>Alexis</td>\n",
       "      <td>F</td>\n",
       "      <td>2</td>\n",
       "      <td>Benton</td>\n",
       "    </tr>\n",
       "    <tr>\n",
       "      <th>3</th>\n",
       "      <td>73.0</td>\n",
       "      <td>Amy</td>\n",
       "      <td>F</td>\n",
       "      <td>3</td>\n",
       "      <td>Johnson</td>\n",
       "    </tr>\n",
       "    <tr>\n",
       "      <th>4</th>\n",
       "      <td>20.0</td>\n",
       "      <td>David</td>\n",
       "      <td>M</td>\n",
       "      <td>4</td>\n",
       "      <td>Moore</td>\n",
       "    </tr>\n",
       "    <tr>\n",
       "      <th>...</th>\n",
       "      <td>...</td>\n",
       "      <td>...</td>\n",
       "      <td>...</td>\n",
       "      <td>...</td>\n",
       "      <td>...</td>\n",
       "    </tr>\n",
       "    <tr>\n",
       "      <th>5186</th>\n",
       "      <td>NaN</td>\n",
       "      <td>Arthur</td>\n",
       "      <td>M</td>\n",
       "      <td>9428</td>\n",
       "      <td>Harris</td>\n",
       "    </tr>\n",
       "    <tr>\n",
       "      <th>5187</th>\n",
       "      <td>NaN</td>\n",
       "      <td>David</td>\n",
       "      <td>M</td>\n",
       "      <td>9494</td>\n",
       "      <td>Roy</td>\n",
       "    </tr>\n",
       "    <tr>\n",
       "      <th>5188</th>\n",
       "      <td>85.0</td>\n",
       "      <td>Thomas</td>\n",
       "      <td>M</td>\n",
       "      <td>10350</td>\n",
       "      <td>Turner</td>\n",
       "    </tr>\n",
       "    <tr>\n",
       "      <th>5189</th>\n",
       "      <td>NaN</td>\n",
       "      <td>April</td>\n",
       "      <td>F</td>\n",
       "      <td>10587</td>\n",
       "      <td>Sanchez</td>\n",
       "    </tr>\n",
       "    <tr>\n",
       "      <th>5190</th>\n",
       "      <td>NaN</td>\n",
       "      <td>Andrew</td>\n",
       "      <td>M</td>\n",
       "      <td>10934</td>\n",
       "      <td>Compton</td>\n",
       "    </tr>\n",
       "  </tbody>\n",
       "</table>\n",
       "<p>5191 rows × 5 columns</p>\n",
       "</div>"
      ],
      "text/plain": [
       "       age first_name gender     id last_name\n",
       "0     48.0   Nicholas      M      0    Flores\n",
       "1      NaN    Jeffery      M      1      Rowe\n",
       "2     57.0     Alexis      F      2    Benton\n",
       "3     73.0        Amy      F      3   Johnson\n",
       "4     20.0      David      M      4     Moore\n",
       "...    ...        ...    ...    ...       ...\n",
       "5186   NaN     Arthur      M   9428    Harris\n",
       "5187   NaN      David      M   9494       Roy\n",
       "5188  85.0     Thomas      M  10350    Turner\n",
       "5189   NaN      April      F  10587   Sanchez\n",
       "5190   NaN     Andrew      M  10934   Compton\n",
       "\n",
       "[5191 rows x 5 columns]"
      ]
     },
     "execution_count": 5,
     "metadata": {},
     "output_type": "execute_result"
    }
   ],
   "source": [
    "customer"
   ]
  },
  {
   "cell_type": "code",
   "execution_count": null,
   "metadata": {},
   "outputs": [],
   "source": []
  },
  {
   "attachments": {},
   "cell_type": "markdown",
   "metadata": {},
   "source": [
    "# Easy\n",
    "<font color=7EBC80>**How many unique customers are in the dataset?**</font>"
   ]
  },
  {
   "cell_type": "code",
   "execution_count": 6,
   "metadata": {},
   "outputs": [
    {
     "data": {
      "text/plain": [
       "5191"
      ]
     },
     "execution_count": 6,
     "metadata": {},
     "output_type": "execute_result"
    }
   ],
   "source": [
    "customer_id = invoice['customer_id']\n",
    "\n",
    "customer_id.nunique()"
   ]
  },
  {
   "attachments": {},
   "cell_type": "markdown",
   "metadata": {},
   "source": [
    "<u>*answer: there are 5191 unique customers in the dataset*<u>"
   ]
  },
  {
   "attachments": {},
   "cell_type": "markdown",
   "metadata": {},
   "source": [
    "<font color=7EBC80>**What are the different categories of products available? How many unique categories are there?**</font>"
   ]
  },
  {
   "cell_type": "code",
   "execution_count": 12,
   "metadata": {},
   "outputs": [
    {
     "data": {
      "text/plain": [
       "array(['Clothing', 'Shoes', 'Books', 'Cosmetics', 'Food & Beverage',\n",
       "       'Toys', 'Technology', 'Souvenir'], dtype=object)"
      ]
     },
     "execution_count": 12,
     "metadata": {},
     "output_type": "execute_result"
    }
   ],
   "source": [
    "category = invoice['category']\n",
    "\n",
    "category.unique()"
   ]
  },
  {
   "cell_type": "code",
   "execution_count": 10,
   "metadata": {},
   "outputs": [
    {
     "data": {
      "text/plain": [
       "8"
      ]
     },
     "execution_count": 10,
     "metadata": {},
     "output_type": "execute_result"
    }
   ],
   "source": [
    "category.nunique()"
   ]
  },
  {
   "attachments": {},
   "cell_type": "markdown",
   "metadata": {},
   "source": [
    "<u>*answer: there are 8 unique categories - clothing, shoes, books, cosmetics, food & bevarage, toys, technology, and souvenir*<u>"
   ]
  },
  {
   "attachments": {},
   "cell_type": "markdown",
   "metadata": {},
   "source": [
    "<font color=7EBC80>**Which payment method is the most popular? How many times was it used?**</font>"
   ]
  },
  {
   "cell_type": "code",
   "execution_count": 15,
   "metadata": {},
   "outputs": [],
   "source": [
    "payment_method = invoice['payment_method']"
   ]
  },
  {
   "cell_type": "code",
   "execution_count": 18,
   "metadata": {},
   "outputs": [
    {
     "data": {
      "text/plain": [
       "payment_method\n",
       "Cash           44447\n",
       "Credit Card    34931\n",
       "Debit Card     20079\n",
       "Name: count, dtype: int64"
      ]
     },
     "execution_count": 18,
     "metadata": {},
     "output_type": "execute_result"
    }
   ],
   "source": [
    "payment_method.value_counts()"
   ]
  },
  {
   "attachments": {},
   "cell_type": "markdown",
   "metadata": {},
   "source": [
    "<u>*answer: cash is the most popular payment method, used 44,447 times*<u>"
   ]
  },
  {
   "attachments": {},
   "cell_type": "markdown",
   "metadata": {},
   "source": [
    "# Medium\n",
    "<font color=7EBC80>**What are the three most popular categories, by total sales?**</font>"
   ]
  },
  {
   "cell_type": "code",
   "execution_count": 9,
   "metadata": {},
   "outputs": [],
   "source": [
    "price = invoice['price']\n",
    "quantity = invoice['quantity']\n",
    "\n",
    "total_price = price * quantity\n",
    "\n",
    "invoice.insert(5,'total_price',total_price,True)"
   ]
  },
  {
   "cell_type": "code",
   "execution_count": 47,
   "metadata": {},
   "outputs": [
    {
     "data": {
      "text/plain": [
       "category\n",
       "Books              7.0\n",
       "Clothing           1.0\n",
       "Cosmetics          4.0\n",
       "Food & Beverage    6.0\n",
       "Shoes              2.0\n",
       "Souvenir           8.0\n",
       "Technology         3.0\n",
       "Toys               5.0\n",
       "Name: total_price, dtype: float64"
      ]
     },
     "execution_count": 47,
     "metadata": {},
     "output_type": "execute_result"
    }
   ],
   "source": [
    "invoice.groupby('category').sum()['total_price'].rank(ascending=False)"
   ]
  },
  {
   "attachments": {},
   "cell_type": "markdown",
   "metadata": {},
   "source": [
    "<u>*answer: the three most popular categories by total sales are clothing, shoes, and technology*<u>"
   ]
  },
  {
   "attachments": {},
   "cell_type": "markdown",
   "metadata": {},
   "source": [
    "<font color=7EBC80>**What are the total sales attributed to customers over the age of 45?**</font>"
   ]
  },
  {
   "cell_type": "code",
   "execution_count": 10,
   "metadata": {},
   "outputs": [],
   "source": [
    "merged = pd.merge(\n",
    "    invoice , \n",
    "    customer,\n",
    "    how = 'inner',\n",
    "    left_on = 'customer_id',\n",
    "    right_on = 'id'\n",
    ")"
   ]
  },
  {
   "cell_type": "code",
   "execution_count": 55,
   "metadata": {},
   "outputs": [
    {
     "data": {
      "text/plain": [
       "82039768.15"
      ]
     },
     "execution_count": 55,
     "metadata": {},
     "output_type": "execute_result"
    }
   ],
   "source": [
    "age = merged['age']\n",
    "\n",
    "over_45 = age > 45\n",
    "\n",
    "merged[over_45].sum()['total_price']"
   ]
  },
  {
   "attachments": {},
   "cell_type": "markdown",
   "metadata": {},
   "source": [
    "<u>*answer: the total sales attributed to customers over the age of 45 is 82,039,768.15*<u>"
   ]
  },
  {
   "attachments": {},
   "cell_type": "markdown",
   "metadata": {},
   "source": [
    "<font color=7EBC80>**How is the data distributed across different invoice dates? Are there any seasonal trends or patterns? (Use a graph for this.)**</font>"
   ]
  },
  {
   "cell_type": "code",
   "execution_count": 99,
   "metadata": {},
   "outputs": [
    {
     "data": {
      "text/html": [
       "<div>\n",
       "<style scoped>\n",
       "    .dataframe tbody tr th:only-of-type {\n",
       "        vertical-align: middle;\n",
       "    }\n",
       "\n",
       "    .dataframe tbody tr th {\n",
       "        vertical-align: top;\n",
       "    }\n",
       "\n",
       "    .dataframe thead th {\n",
       "        text-align: right;\n",
       "    }\n",
       "</style>\n",
       "<table border=\"1\" class=\"dataframe\">\n",
       "  <thead>\n",
       "    <tr style=\"text-align: right;\">\n",
       "      <th></th>\n",
       "      <th>invoice_no</th>\n",
       "      <th>customer_id</th>\n",
       "      <th>category</th>\n",
       "      <th>quantity</th>\n",
       "      <th>price</th>\n",
       "      <th>total_price</th>\n",
       "      <th>payment_method</th>\n",
       "      <th>invoice_date</th>\n",
       "      <th>shopping_mall</th>\n",
       "      <th>age</th>\n",
       "      <th>first_name</th>\n",
       "      <th>gender</th>\n",
       "      <th>id</th>\n",
       "      <th>last_name</th>\n",
       "      <th>month</th>\n",
       "    </tr>\n",
       "  </thead>\n",
       "  <tbody>\n",
       "    <tr>\n",
       "      <th>40380</th>\n",
       "      <td>I113208</td>\n",
       "      <td>233</td>\n",
       "      <td>Technology</td>\n",
       "      <td>2</td>\n",
       "      <td>2100.00</td>\n",
       "      <td>4200.00</td>\n",
       "      <td>Cash</td>\n",
       "      <td>2021-01-01</td>\n",
       "      <td>Forum Istanbul</td>\n",
       "      <td>NaN</td>\n",
       "      <td>Brian</td>\n",
       "      <td>M</td>\n",
       "      <td>233</td>\n",
       "      <td>Coleman</td>\n",
       "      <td>January</td>\n",
       "    </tr>\n",
       "    <tr>\n",
       "      <th>5432</th>\n",
       "      <td>I474975</td>\n",
       "      <td>89</td>\n",
       "      <td>Clothing</td>\n",
       "      <td>2</td>\n",
       "      <td>600.16</td>\n",
       "      <td>1200.32</td>\n",
       "      <td>Credit Card</td>\n",
       "      <td>2021-01-01</td>\n",
       "      <td>Metropol AVM</td>\n",
       "      <td>NaN</td>\n",
       "      <td>Michael</td>\n",
       "      <td>M</td>\n",
       "      <td>89</td>\n",
       "      <td>Mccullough</td>\n",
       "      <td>January</td>\n",
       "    </tr>\n",
       "    <tr>\n",
       "      <th>92987</th>\n",
       "      <td>I371949</td>\n",
       "      <td>1818</td>\n",
       "      <td>Toys</td>\n",
       "      <td>2</td>\n",
       "      <td>71.68</td>\n",
       "      <td>143.36</td>\n",
       "      <td>Credit Card</td>\n",
       "      <td>2021-01-01</td>\n",
       "      <td>Metrocity</td>\n",
       "      <td>81.0</td>\n",
       "      <td>Joshua</td>\n",
       "      <td>M</td>\n",
       "      <td>1818</td>\n",
       "      <td>Christensen</td>\n",
       "      <td>January</td>\n",
       "    </tr>\n",
       "    <tr>\n",
       "      <th>62130</th>\n",
       "      <td>I260437</td>\n",
       "      <td>968</td>\n",
       "      <td>Cosmetics</td>\n",
       "      <td>2</td>\n",
       "      <td>81.32</td>\n",
       "      <td>162.64</td>\n",
       "      <td>Cash</td>\n",
       "      <td>2021-01-01</td>\n",
       "      <td>Mall of Istanbul</td>\n",
       "      <td>43.0</td>\n",
       "      <td>Michael</td>\n",
       "      <td>M</td>\n",
       "      <td>968</td>\n",
       "      <td>Brown</td>\n",
       "      <td>January</td>\n",
       "    </tr>\n",
       "    <tr>\n",
       "      <th>48139</th>\n",
       "      <td>I301161</td>\n",
       "      <td>1071</td>\n",
       "      <td>Cosmetics</td>\n",
       "      <td>3</td>\n",
       "      <td>121.98</td>\n",
       "      <td>365.94</td>\n",
       "      <td>Debit Card</td>\n",
       "      <td>2021-01-01</td>\n",
       "      <td>Mall of Istanbul</td>\n",
       "      <td>45.0</td>\n",
       "      <td>Jonathan</td>\n",
       "      <td>M</td>\n",
       "      <td>1071</td>\n",
       "      <td>Perez</td>\n",
       "      <td>January</td>\n",
       "    </tr>\n",
       "    <tr>\n",
       "      <th>...</th>\n",
       "      <td>...</td>\n",
       "      <td>...</td>\n",
       "      <td>...</td>\n",
       "      <td>...</td>\n",
       "      <td>...</td>\n",
       "      <td>...</td>\n",
       "      <td>...</td>\n",
       "      <td>...</td>\n",
       "      <td>...</td>\n",
       "      <td>...</td>\n",
       "      <td>...</td>\n",
       "      <td>...</td>\n",
       "      <td>...</td>\n",
       "      <td>...</td>\n",
       "      <td>...</td>\n",
       "    </tr>\n",
       "    <tr>\n",
       "      <th>89658</th>\n",
       "      <td>I323106</td>\n",
       "      <td>1275</td>\n",
       "      <td>Cosmetics</td>\n",
       "      <td>2</td>\n",
       "      <td>81.32</td>\n",
       "      <td>162.64</td>\n",
       "      <td>Cash</td>\n",
       "      <td>2023-03-08</td>\n",
       "      <td>Kanyon</td>\n",
       "      <td>NaN</td>\n",
       "      <td>Kevin</td>\n",
       "      <td>M</td>\n",
       "      <td>1275</td>\n",
       "      <td>Charles</td>\n",
       "      <td>March</td>\n",
       "    </tr>\n",
       "    <tr>\n",
       "      <th>51515</th>\n",
       "      <td>I307740</td>\n",
       "      <td>567</td>\n",
       "      <td>Cosmetics</td>\n",
       "      <td>3</td>\n",
       "      <td>121.98</td>\n",
       "      <td>365.94</td>\n",
       "      <td>Debit Card</td>\n",
       "      <td>2023-03-08</td>\n",
       "      <td>Viaport Outlet</td>\n",
       "      <td>20.0</td>\n",
       "      <td>David</td>\n",
       "      <td>M</td>\n",
       "      <td>567</td>\n",
       "      <td>Luna</td>\n",
       "      <td>March</td>\n",
       "    </tr>\n",
       "    <tr>\n",
       "      <th>36542</th>\n",
       "      <td>I268432</td>\n",
       "      <td>379</td>\n",
       "      <td>Food &amp; Beverage</td>\n",
       "      <td>3</td>\n",
       "      <td>15.69</td>\n",
       "      <td>47.07</td>\n",
       "      <td>Cash</td>\n",
       "      <td>2023-03-08</td>\n",
       "      <td>Kanyon</td>\n",
       "      <td>NaN</td>\n",
       "      <td>Jesse</td>\n",
       "      <td>M</td>\n",
       "      <td>379</td>\n",
       "      <td>Mcgee</td>\n",
       "      <td>March</td>\n",
       "    </tr>\n",
       "    <tr>\n",
       "      <th>61732</th>\n",
       "      <td>I259307</td>\n",
       "      <td>1938</td>\n",
       "      <td>Toys</td>\n",
       "      <td>1</td>\n",
       "      <td>35.84</td>\n",
       "      <td>35.84</td>\n",
       "      <td>Cash</td>\n",
       "      <td>2023-03-08</td>\n",
       "      <td>Metropol AVM</td>\n",
       "      <td>NaN</td>\n",
       "      <td>Eric</td>\n",
       "      <td>M</td>\n",
       "      <td>1938</td>\n",
       "      <td>Moran</td>\n",
       "      <td>March</td>\n",
       "    </tr>\n",
       "    <tr>\n",
       "      <th>24842</th>\n",
       "      <td>I513689</td>\n",
       "      <td>986</td>\n",
       "      <td>Food &amp; Beverage</td>\n",
       "      <td>3</td>\n",
       "      <td>15.69</td>\n",
       "      <td>47.07</td>\n",
       "      <td>Cash</td>\n",
       "      <td>2023-03-08</td>\n",
       "      <td>Kanyon</td>\n",
       "      <td>60.0</td>\n",
       "      <td>Michael</td>\n",
       "      <td>M</td>\n",
       "      <td>986</td>\n",
       "      <td>Wilson</td>\n",
       "      <td>March</td>\n",
       "    </tr>\n",
       "  </tbody>\n",
       "</table>\n",
       "<p>99457 rows × 15 columns</p>\n",
       "</div>"
      ],
      "text/plain": [
       "      invoice_no  customer_id         category  quantity    price  \\\n",
       "40380    I113208          233       Technology         2  2100.00   \n",
       "5432     I474975           89         Clothing         2   600.16   \n",
       "92987    I371949         1818             Toys         2    71.68   \n",
       "62130    I260437          968        Cosmetics         2    81.32   \n",
       "48139    I301161         1071        Cosmetics         3   121.98   \n",
       "...          ...          ...              ...       ...      ...   \n",
       "89658    I323106         1275        Cosmetics         2    81.32   \n",
       "51515    I307740          567        Cosmetics         3   121.98   \n",
       "36542    I268432          379  Food & Beverage         3    15.69   \n",
       "61732    I259307         1938             Toys         1    35.84   \n",
       "24842    I513689          986  Food & Beverage         3    15.69   \n",
       "\n",
       "       total_price payment_method invoice_date     shopping_mall   age  \\\n",
       "40380      4200.00           Cash   2021-01-01    Forum Istanbul   NaN   \n",
       "5432       1200.32    Credit Card   2021-01-01      Metropol AVM   NaN   \n",
       "92987       143.36    Credit Card   2021-01-01         Metrocity  81.0   \n",
       "62130       162.64           Cash   2021-01-01  Mall of Istanbul  43.0   \n",
       "48139       365.94     Debit Card   2021-01-01  Mall of Istanbul  45.0   \n",
       "...            ...            ...          ...               ...   ...   \n",
       "89658       162.64           Cash   2023-03-08            Kanyon   NaN   \n",
       "51515       365.94     Debit Card   2023-03-08    Viaport Outlet  20.0   \n",
       "36542        47.07           Cash   2023-03-08            Kanyon   NaN   \n",
       "61732        35.84           Cash   2023-03-08      Metropol AVM   NaN   \n",
       "24842        47.07           Cash   2023-03-08            Kanyon  60.0   \n",
       "\n",
       "      first_name gender    id    last_name    month  \n",
       "40380      Brian      M   233      Coleman  January  \n",
       "5432     Michael      M    89   Mccullough  January  \n",
       "92987     Joshua      M  1818  Christensen  January  \n",
       "62130    Michael      M   968        Brown  January  \n",
       "48139   Jonathan      M  1071        Perez  January  \n",
       "...          ...    ...   ...          ...      ...  \n",
       "89658      Kevin      M  1275      Charles    March  \n",
       "51515      David      M   567         Luna    March  \n",
       "36542      Jesse      M   379        Mcgee    March  \n",
       "61732       Eric      M  1938        Moran    March  \n",
       "24842    Michael      M   986       Wilson    March  \n",
       "\n",
       "[99457 rows x 15 columns]"
      ]
     },
     "execution_count": 99,
     "metadata": {},
     "output_type": "execute_result"
    }
   ],
   "source": [
    "merged.sort_values(by='invoice_date', ascending=True)"
   ]
  },
  {
   "cell_type": "code",
   "execution_count": 96,
   "metadata": {},
   "outputs": [],
   "source": [
    "merged['invoice_date'] = pd.to_datetime(merged['invoice_date'],format='mixed', dayfirst=True)\n",
    "\n",
    "date = merged['invoice_date']"
   ]
  },
  {
   "cell_type": "code",
   "execution_count": 98,
   "metadata": {},
   "outputs": [],
   "source": [
    "merged.insert(14,'month',date.dt.month_name(),True)"
   ]
  },
  {
   "cell_type": "code",
   "execution_count": null,
   "metadata": {},
   "outputs": [],
   "source": [
    "merged[['category','total_price','month']].groupby(['month']).sum()['total_price']"
   ]
  },
  {
   "cell_type": "code",
   "execution_count": null,
   "metadata": {},
   "outputs": [],
   "source": [
    "month = merged['month'].values.tolist()\n",
    "total_price = merged['total_price'].values.tolist()\n",
    "\n",
    "plt.plot(month, total_price, 'b-', label='sales')\n",
    "plt.legend(loc='best')\n",
    "plt.show()\n",
    "\n",
    "#did not work, will try again T-T"
   ]
  },
  {
   "attachments": {},
   "cell_type": "markdown",
   "metadata": {},
   "source": [
    "\n",
    "# Hard\n",
    "<font color=7EBC80>**Create a pivot table showing the breakdown of sales across these dimensions, in this order: category, decade age range (e.g., 10-19, 20-29, and so forth).**</font>"
   ]
  },
  {
   "cell_type": "code",
   "execution_count": null,
   "metadata": {},
   "outputs": [],
   "source": [
    "merged"
   ]
  },
  {
   "cell_type": "code",
   "execution_count": 12,
   "metadata": {},
   "outputs": [
    {
     "data": {
      "text/html": [
       "<div>\n",
       "<style scoped>\n",
       "    .dataframe tbody tr th:only-of-type {\n",
       "        vertical-align: middle;\n",
       "    }\n",
       "\n",
       "    .dataframe tbody tr th {\n",
       "        vertical-align: top;\n",
       "    }\n",
       "\n",
       "    .dataframe thead th {\n",
       "        text-align: right;\n",
       "    }\n",
       "</style>\n",
       "<table border=\"1\" class=\"dataframe\">\n",
       "  <thead>\n",
       "    <tr style=\"text-align: right;\">\n",
       "      <th>age_range</th>\n",
       "      <th>0-9</th>\n",
       "      <th>10-19</th>\n",
       "      <th>20-29</th>\n",
       "      <th>30-39</th>\n",
       "      <th>40-49</th>\n",
       "      <th>50-59</th>\n",
       "      <th>60-69</th>\n",
       "      <th>70-79</th>\n",
       "      <th>80-89</th>\n",
       "      <th>90-99</th>\n",
       "    </tr>\n",
       "    <tr>\n",
       "      <th>category</th>\n",
       "      <th></th>\n",
       "      <th></th>\n",
       "      <th></th>\n",
       "      <th></th>\n",
       "      <th></th>\n",
       "      <th></th>\n",
       "      <th></th>\n",
       "      <th></th>\n",
       "      <th></th>\n",
       "      <th></th>\n",
       "    </tr>\n",
       "  </thead>\n",
       "  <tbody>\n",
       "    <tr>\n",
       "      <th>Books</th>\n",
       "      <td>0.0</td>\n",
       "      <td>7923.45</td>\n",
       "      <td>76022.70</td>\n",
       "      <td>87157.95</td>\n",
       "      <td>87885.15</td>\n",
       "      <td>72735.15</td>\n",
       "      <td>81885.75</td>\n",
       "      <td>57706.35</td>\n",
       "      <td>29224.35</td>\n",
       "      <td>0.0</td>\n",
       "    </tr>\n",
       "    <tr>\n",
       "      <th>Clothing</th>\n",
       "      <td>0.0</td>\n",
       "      <td>1144505.12</td>\n",
       "      <td>9959955.28</td>\n",
       "      <td>11540776.72</td>\n",
       "      <td>11447451.84</td>\n",
       "      <td>9943150.80</td>\n",
       "      <td>11083154.72</td>\n",
       "      <td>8061649.20</td>\n",
       "      <td>4812382.96</td>\n",
       "      <td>0.0</td>\n",
       "    </tr>\n",
       "    <tr>\n",
       "      <th>Cosmetics</th>\n",
       "      <td>0.0</td>\n",
       "      <td>65991.18</td>\n",
       "      <td>583796.28</td>\n",
       "      <td>731310.76</td>\n",
       "      <td>682396.78</td>\n",
       "      <td>563954.20</td>\n",
       "      <td>669832.84</td>\n",
       "      <td>443722.58</td>\n",
       "      <td>274495.66</td>\n",
       "      <td>0.0</td>\n",
       "    </tr>\n",
       "    <tr>\n",
       "      <th>Food &amp; Beverage</th>\n",
       "      <td>0.0</td>\n",
       "      <td>9434.92</td>\n",
       "      <td>68633.29</td>\n",
       "      <td>87911.07</td>\n",
       "      <td>91922.48</td>\n",
       "      <td>72132.16</td>\n",
       "      <td>81488.63</td>\n",
       "      <td>58256.97</td>\n",
       "      <td>33879.94</td>\n",
       "      <td>0.0</td>\n",
       "    </tr>\n",
       "    <tr>\n",
       "      <th>Shoes</th>\n",
       "      <td>0.0</td>\n",
       "      <td>634379.69</td>\n",
       "      <td>5571978.28</td>\n",
       "      <td>7303468.73</td>\n",
       "      <td>7163028.95</td>\n",
       "      <td>5778436.76</td>\n",
       "      <td>6131336.72</td>\n",
       "      <td>4675324.30</td>\n",
       "      <td>2827400.87</td>\n",
       "      <td>0.0</td>\n",
       "    </tr>\n",
       "    <tr>\n",
       "      <th>Souvenir</th>\n",
       "      <td>0.0</td>\n",
       "      <td>6181.71</td>\n",
       "      <td>54438.93</td>\n",
       "      <td>63834.66</td>\n",
       "      <td>68444.55</td>\n",
       "      <td>54966.78</td>\n",
       "      <td>57418.35</td>\n",
       "      <td>38216.34</td>\n",
       "      <td>26662.29</td>\n",
       "      <td>0.0</td>\n",
       "    </tr>\n",
       "    <tr>\n",
       "      <th>Technology</th>\n",
       "      <td>0.0</td>\n",
       "      <td>739200.00</td>\n",
       "      <td>5053650.00</td>\n",
       "      <td>6298950.00</td>\n",
       "      <td>6082650.00</td>\n",
       "      <td>4458300.00</td>\n",
       "      <td>5421150.00</td>\n",
       "      <td>3808350.00</td>\n",
       "      <td>2134650.00</td>\n",
       "      <td>0.0</td>\n",
       "    </tr>\n",
       "    <tr>\n",
       "      <th>Toys</th>\n",
       "      <td>0.0</td>\n",
       "      <td>35911.68</td>\n",
       "      <td>366392.32</td>\n",
       "      <td>424704.00</td>\n",
       "      <td>408253.44</td>\n",
       "      <td>330516.48</td>\n",
       "      <td>370693.12</td>\n",
       "      <td>293888.00</td>\n",
       "      <td>162856.96</td>\n",
       "      <td>0.0</td>\n",
       "    </tr>\n",
       "  </tbody>\n",
       "</table>\n",
       "</div>"
      ],
      "text/plain": [
       "age_range        0-9       10-19       20-29        30-39        40-49  \\\n",
       "category                                                                 \n",
       "Books            0.0     7923.45    76022.70     87157.95     87885.15   \n",
       "Clothing         0.0  1144505.12  9959955.28  11540776.72  11447451.84   \n",
       "Cosmetics        0.0    65991.18   583796.28    731310.76    682396.78   \n",
       "Food & Beverage  0.0     9434.92    68633.29     87911.07     91922.48   \n",
       "Shoes            0.0   634379.69  5571978.28   7303468.73   7163028.95   \n",
       "Souvenir         0.0     6181.71    54438.93     63834.66     68444.55   \n",
       "Technology       0.0   739200.00  5053650.00   6298950.00   6082650.00   \n",
       "Toys             0.0    35911.68   366392.32    424704.00    408253.44   \n",
       "\n",
       "age_range             50-59        60-69       70-79       80-89  90-99  \n",
       "category                                                                 \n",
       "Books              72735.15     81885.75    57706.35    29224.35    0.0  \n",
       "Clothing         9943150.80  11083154.72  8061649.20  4812382.96    0.0  \n",
       "Cosmetics         563954.20    669832.84   443722.58   274495.66    0.0  \n",
       "Food & Beverage    72132.16     81488.63    58256.97    33879.94    0.0  \n",
       "Shoes            5778436.76   6131336.72  4675324.30  2827400.87    0.0  \n",
       "Souvenir           54966.78     57418.35    38216.34    26662.29    0.0  \n",
       "Technology       4458300.00   5421150.00  3808350.00  2134650.00    0.0  \n",
       "Toys              330516.48    370693.12   293888.00   162856.96    0.0  "
      ]
     },
     "execution_count": 12,
     "metadata": {},
     "output_type": "execute_result"
    }
   ],
   "source": [
    "categories = list(merged['category'].unique())\n",
    "\n",
    "labels = []\n",
    "for i in range(10):\n",
    "    start_age = i * 10\n",
    "    end_age = start_age + 9\n",
    "    range_label = f\"{start_age}-{end_age}\"\n",
    "    labels.append(range_label)\n",
    "\n",
    "    bins = [0, 9, 19, 29, 39, 49, 59, 69, 79, 89, 99]\n",
    "\n",
    "merged['age_range'] = pd.cut(merged['age'], \n",
    "                             bins=bins, \n",
    "                             labels=labels, \n",
    "                             right=False)\n",
    "\n",
    "pd.pivot_table(merged, values='total_price', \n",
    "               index='category',\n",
    "               columns='age_range', \n",
    "               aggfunc='sum')"
   ]
  }
 ],
 "metadata": {
  "kernelspec": {
   "display_name": "env",
   "language": "python",
   "name": "python3"
  },
  "language_info": {
   "codemirror_mode": {
    "name": "ipython",
    "version": 3
   },
   "file_extension": ".py",
   "mimetype": "text/x-python",
   "name": "python",
   "nbconvert_exporter": "python",
   "pygments_lexer": "ipython3",
   "version": "3.10.9"
  },
  "orig_nbformat": 4
 },
 "nbformat": 4,
 "nbformat_minor": 2
}
