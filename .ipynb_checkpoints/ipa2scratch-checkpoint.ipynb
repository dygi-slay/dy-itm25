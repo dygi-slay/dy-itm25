{
 "cells": [
  {
   "cell_type": "code",
   "execution_count": 6,
   "id": "3c464a2a-3bd4-4199-91a7-6b14bf68ceaa",
   "metadata": {
    "tags": []
   },
   "outputs": [],
   "source": [
    "def shift_letter(letter, shift):\n",
    "    '''Shift Letter.\n",
    "    5 points.\n",
    "\n",
    "    Shift a letter right by the given number.\n",
    "    Wrap the letter around if it reaches the end of the alphabet.\n",
    "\n",
    "    Examples:\n",
    "    shift_letter(\"A\", 0) -> \"A\"\n",
    "    shift_letter(\"A\", 2) -> \"C\"\n",
    "    shift_letter(\"Z\", 1) -> \"A\"\n",
    "    shift_letter(\"X\", 5) -> \"C\"\n",
    "    shift_letter(\" \", _) -> \" \"\n",
    "\n",
    "    *Note: the single underscore `_` is used to acknowledge the presence\n",
    "        of a value without caring about its contents.\n",
    "\n",
    "    Parameters\n",
    "    ----------\n",
    "    letter: str\n",
    "        a single uppercase English letter, or a space.\n",
    "    shift: int\n",
    "        the number by which to shift the letter.\n",
    "\n",
    "    Returns\n",
    "    -------\n",
    "    str\n",
    "        the letter, shifted appropriately, if a letter.\n",
    "        a single space if the original letter was a space.\n",
    "    '''\n",
    "    # Replace `pass` with your code.\n",
    "    # Stay within the function. Only use the parameters as input. The function should return your answer.\n",
    "    assigned_value = ord(letter)\n",
    "    shifted_value = assigned_value + shift\n",
    "    if assigned_value == 32:\n",
    "        new_letter = letter\n",
    "    elif shifted_value>90:\n",
    "        new_value = shifted_value - 26\n",
    "        new_letter = chr(new_value)\n",
    "    else:\n",
    "        new_value = shifted_value\n",
    "        new_letter = chr(new_value)\n",
    "    return new_letter\n",
    "    "
   ]
  },
  {
   "cell_type": "code",
   "execution_count": 7,
   "id": "bd3efef6-a025-4316-8409-2cd2d691f702",
   "metadata": {
    "tags": []
   },
   "outputs": [
    {
     "data": {
      "text/plain": [
       "'C'"
      ]
     },
     "execution_count": 7,
     "metadata": {},
     "output_type": "execute_result"
    }
   ],
   "source": [
    "shift_letter(\"X\", 5)"
   ]
  },
  {
   "cell_type": "code",
   "execution_count": 135,
   "id": "1e7abd7e-1a76-4917-a85e-ff9090a11df0",
   "metadata": {
    "tags": []
   },
   "outputs": [],
   "source": [
    "def caesar_cipher(message, shift):\n",
    "    '''Caesar Cipher.\n",
    "    10 points.\n",
    "\n",
    "    Apply a shift number to a string of uppercase English letters and spaces.\n",
    "\n",
    "    Parameters\n",
    "    ----------\n",
    "    message: str\n",
    "        a string of uppercase English letters and spaces.\n",
    "    shift: int\n",
    "        the number by which to shift the letters.\n",
    "\n",
    "    Returns\n",
    "    -------\n",
    "    str\n",
    "        the message, shifted appropriately.\n",
    "    '''\n",
    "    # Replace `pass` with your code.\n",
    "    # Stay within the function. Only use the parameters as input. The function should return your answer.\n",
    "    new = ' '.join([chr((ord(char)+shift)) if char.isalpha( ) else char for char in message])\n",
    "    return new"
   ]
  },
  {
   "cell_type": "code",
   "execution_count": 134,
   "id": "a4480448-4535-470f-b62e-e7edc1cc6e29",
   "metadata": {
    "tags": []
   },
   "outputs": [
    {
     "data": {
      "text/plain": [
       "'O H W W `   I P Y [ O K H `'"
      ]
     },
     "execution_count": 134,
     "metadata": {},
     "output_type": "execute_result"
    }
   ],
   "source": [
    "caesar_cipher('HAPPY BIRTHDAY',7)"
   ]
  },
  {
   "cell_type": "code",
   "execution_count": 121,
   "id": "756d0c02-205e-4127-aca2-d5b5af2c91b7",
   "metadata": {
    "tags": []
   },
   "outputs": [],
   "source": [
    "# note ascii of ' ' = 32\n",
    "# ascii of uppercase A-Z = 65-90\n",
    "# try doing caesar in one line ............................ bruh\n",
    "\n",
    "="
   ]
  },
  {
   "cell_type": "code",
   "execution_count": 97,
   "id": "ed702e3a-45a0-4dc1-936c-fab543f3f719",
   "metadata": {
    "tags": []
   },
   "outputs": [
    {
     "data": {
      "text/plain": [
       "[1, 4, 9, 16, 25]"
      ]
     },
     "execution_count": 97,
     "metadata": {},
     "output_type": "execute_result"
    }
   ],
   "source": [
    "L = [1,2,3,4,5]\n",
    "\n",
    "[x ** 2 for x in L]"
   ]
  },
  {
   "cell_type": "code",
   "execution_count": 190,
   "id": "545e6153-e75a-4ad3-9bf7-325c58d8efd2",
   "metadata": {
    "tags": []
   },
   "outputs": [],
   "source": [
    "def caesar_cipher(message, shift):\n",
    "    '''Caesar Cipher.\n",
    "    10 points.\n",
    "\n",
    "    Apply a shift number to a string of uppercase English letters and spaces.\n",
    "\n",
    "    Parameters\n",
    "    ----------\n",
    "    message: str\n",
    "        a string of uppercase English letters and spaces.\n",
    "    shift: int\n",
    "        the number by which to shift the letters.\n",
    "\n",
    "    Returns\n",
    "    -------\n",
    "    str\n",
    "        the message, shifted appropriately.\n",
    "    '''\n",
    "    # Replace `pass` with your code.\n",
    "    # Stay within the function. Only use the parameters as input. The function should return your answer.\n",
    "    transformed_message = []\n",
    "    for letter in message:\n",
    "        assigned_value = ord(letter)\n",
    "        shifted_value = assigned_value + shift\n",
    "        if assigned_value == 32:\n",
    "            new_letter = letter\n",
    "        elif shifted_value>90:\n",
    "            new_value = shifted_value - 26\n",
    "            new_letter = chr(new_value)\n",
    "        else:\n",
    "            new_value = shifted_value\n",
    "            new_letter = chr(new_value)\n",
    "        transformed_message.append(new_letter)\n",
    "    new = ''.join(transformed_message)\n",
    "    return new"
   ]
  },
  {
   "cell_type": "code",
   "execution_count": 191,
   "id": "54a6ac66-dbb1-4727-bc9e-c869600949c6",
   "metadata": {
    "tags": []
   },
   "outputs": [
    {
     "data": {
      "text/plain": [
       "'OHWWF IPYAOKHF'"
      ]
     },
     "execution_count": 191,
     "metadata": {},
     "output_type": "execute_result"
    }
   ],
   "source": [
    "caesar_cipher('HAPPY BIRTHDAY',7)"
   ]
  },
  {
   "cell_type": "code",
   "execution_count": 2,
   "id": "e996fa54-19ff-4abe-b1ac-cf934afda477",
   "metadata": {
    "tags": []
   },
   "outputs": [],
   "source": [
    "def shift_by_letter(letter, letter_shift):\n",
    "    '''Shift By Letter.\n",
    "    10 points.\n",
    "\n",
    "    Shift a letter to the right using the number equivalent of another letter.\n",
    "    The shift letter is any letter from A to Z, where A represents 0, B represents 1,\n",
    "        ..., Z represents 25.\n",
    "\n",
    "    Examples:\n",
    "    shift_by_letter(\"A\", \"A\") -> \"A\"\n",
    "    shift_by_letter(\"A\", \"C\") -> \"C\"\n",
    "    shift_by_letter(\"B\", \"K\") -> \"L\"\n",
    "    shift_by_letter(\" \", _) -> \" \"\n",
    "\n",
    "    Parameters\n",
    "    ----------\n",
    "    letter: str\n",
    "        a single uppercase English letter, or a space.\n",
    "    letter_shift: str\n",
    "        a single uppercase English letter.\n",
    "\n",
    "    Returns\n",
    "    -------\n",
    "    str\n",
    "        the letter, shifted appropriately.\n",
    "    '''\n",
    "    # Replace `pass` with your code.\n",
    "    # Stay within the function. Only use the parameters as input. The function should return your answer.\n",
    "def shift_by_letter(letter, letter_shift):\n",
    "    ALPHABET = ['A','B','C','D','E','F','G','H','I','J','K','L','M','N','O','P','Q','R','S','T','U','V','W','X','Y','Z']\n",
    "    assigned_value = ALPHABET.index(letter)\n",
    "    shift_value = ALPHABET.index(letter_shift)\n",
    "    shifted_value = assigned_value + shift_value\n",
    "    if shifted_value>25:\n",
    "        new_value = shifted_value - 25\n",
    "        new_letter = ALPHABET[new_value]\n",
    "    else:\n",
    "        new_value = shifted_value\n",
    "        new_letter = ALPHABET[new_value]\n",
    "    return new_letter"
   ]
  },
  {
   "cell_type": "code",
   "execution_count": 9,
   "id": "53ac00e8-6bff-454a-bc97-012c9a6bfbe6",
   "metadata": {
    "tags": []
   },
   "outputs": [
    {
     "ename": "NameError",
     "evalue": "name 'A' is not defined",
     "output_type": "error",
     "traceback": [
      "\u001b[0;31m---------------------------------------------------------------------------\u001b[0m",
      "\u001b[0;31mNameError\u001b[0m                                 Traceback (most recent call last)",
      "Cell \u001b[0;32mIn[9], line 1\u001b[0m\n\u001b[0;32m----> 1\u001b[0m \u001b[43mshift_by_letter\u001b[49m\u001b[43m(\u001b[49m\u001b[38;5;124;43m\"\u001b[39;49m\u001b[38;5;124;43mA\u001b[39;49m\u001b[38;5;124;43m\"\u001b[39;49m\u001b[43m,\u001b[49m\u001b[38;5;124;43m\"\u001b[39;49m\u001b[38;5;124;43mA\u001b[39;49m\u001b[38;5;124;43m\"\u001b[39;49m\u001b[43m)\u001b[49m\n",
      "Cell \u001b[0;32mIn[2], line 30\u001b[0m, in \u001b[0;36mshift_by_letter\u001b[0;34m(letter, letter_shift)\u001b[0m\n\u001b[1;32m     29\u001b[0m \u001b[38;5;28;01mdef\u001b[39;00m \u001b[38;5;21mshift_by_letter\u001b[39m(letter, letter_shift):\n\u001b[0;32m---> 30\u001b[0m     ALPHABET \u001b[38;5;241m=\u001b[39m [\u001b[43mA\u001b[49m,B,C,D,E,F,G,H,I,J,K,L,M,N,O,P,Q,R,S,T,U,V,W,X,Y,Z]\n\u001b[1;32m     31\u001b[0m     assigned_value \u001b[38;5;241m=\u001b[39m ALPHABET\u001b[38;5;241m.\u001b[39mindex(letter)\n\u001b[1;32m     32\u001b[0m     shift_value \u001b[38;5;241m=\u001b[39m ALPHABET\u001b[38;5;241m.\u001b[39mindex(letter_shift)\n",
      "\u001b[0;31mNameError\u001b[0m: name 'A' is not defined"
     ]
    }
   ],
   "source": [
    "shift_by_letter(\"A\",\"A\")"
   ]
  },
  {
   "cell_type": "code",
   "execution_count": null,
   "id": "a61ad3a0-7db8-478a-9af0-4f1ecc3a49ad",
   "metadata": {},
   "outputs": [],
   "source": []
  },
  {
   "cell_type": "code",
   "execution_count": null,
   "id": "594c711a-4cb0-4b42-9f02-ec4d42664f03",
   "metadata": {},
   "outputs": [],
   "source": []
  }
 ],
 "metadata": {
  "kernelspec": {
   "display_name": "Python 3 (ipykernel)",
   "language": "python",
   "name": "python3"
  },
  "language_info": {
   "codemirror_mode": {
    "name": "ipython",
    "version": 3
   },
   "file_extension": ".py",
   "mimetype": "text/x-python",
   "name": "python",
   "nbconvert_exporter": "python",
   "pygments_lexer": "ipython3",
   "version": "3.10.9"
  }
 },
 "nbformat": 4,
 "nbformat_minor": 5
}
