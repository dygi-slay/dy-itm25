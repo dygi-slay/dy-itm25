{
 "cells": [
  {
   "cell_type": "code",
   "execution_count": 15,
   "id": "3c464a2a-3bd4-4199-91a7-6b14bf68ceaa",
   "metadata": {
    "tags": []
   },
   "outputs": [
    {
     "data": {
      "text/plain": [
       "'N'"
      ]
     },
     "execution_count": 15,
     "metadata": {},
     "output_type": "execute_result"
    }
   ],
   "source": [
    "def shift_letter(letter, shift):\n",
    "    '''Shift Letter.\n",
    "    5 points.\n",
    "\n",
    "    Shift a letter right by the given number.\n",
    "    Wrap the letter around if it reaches the end of the alphabet.\n",
    "\n",
    "    Examples:\n",
    "    shift_letter(\"A\", 0) -> \"A\"\n",
    "    shift_letter(\"A\", 2) -> \"C\"\n",
    "    shift_letter(\"Z\", 1) -> \"A\"\n",
    "    shift_letter(\"X\", 5) -> \"C\"\n",
    "    shift_letter(\" \", _) -> \" \"\n",
    "\n",
    "    *Note: the single underscore `_` is used to acknowledge the presence\n",
    "        of a value without caring about its contents.\n",
    "\n",
    "    Parameters\n",
    "    ----------\n",
    "    letter: str\n",
    "        a single uppercase English letter, or a space.\n",
    "    shift: int\n",
    "        the number by which to shift the letter.\n",
    "\n",
    "    Returns\n",
    "    -------\n",
    "    str\n",
    "        the letter, shifted appropriately, if a letter.\n",
    "        a single space if the original letter was a space.\n",
    "    '''\n",
    "    # Replace `pass` with your code.\n",
    "    # Stay within the function. Only use the parameters as input. The function should return your answer.\n",
    "    if letter == ' ':\n",
    "        return ' '\n",
    "    \n",
    "    alphabet = 'ABCDEFGHIJKLMNOPQRSTUVWXYZ'\n",
    "    letter = letter.upper()\n",
    "    \n",
    "    letter_index = alphabet.index(letter)\n",
    "    shifted_index = (letter_index + shift) % 26\n",
    "    new_letter = alphabet[shifted_index]\n",
    "\n",
    "    return new_letter\n",
    "shift_letter(\"b\",1000)"
   ]
  },
  {
   "cell_type": "code",
   "execution_count": 13,
   "id": "a3499b52",
   "metadata": {},
   "outputs": [
    {
     "data": {
      "text/plain": [
       "str"
      ]
     },
     "execution_count": 13,
     "metadata": {},
     "output_type": "execute_result"
    }
   ],
   "source": [
    "type('O')"
   ]
  },
  {
   "cell_type": "code",
   "execution_count": 6,
   "id": "bd3efef6-a025-4316-8409-2cd2d691f702",
   "metadata": {
    "tags": []
   },
   "outputs": [
    {
     "ename": "NameError",
     "evalue": "name 'shift_letter' is not defined",
     "output_type": "error",
     "traceback": [
      "\u001b[0;31m---------------------------------------------------------------------------\u001b[0m",
      "\u001b[0;31mNameError\u001b[0m                                 Traceback (most recent call last)",
      "Cell \u001b[0;32mIn[6], line 1\u001b[0m\n\u001b[0;32m----> 1\u001b[0m shift_letter(\u001b[39m\"\u001b[39m\u001b[39mX\u001b[39m\u001b[39m\"\u001b[39m, \u001b[39m5\u001b[39m)\n",
      "\u001b[0;31mNameError\u001b[0m: name 'shift_letter' is not defined"
     ]
    }
   ],
   "source": [
    "shift_letter(\"X\", 5)"
   ]
  },
  {
   "cell_type": "code",
   "execution_count": 135,
   "id": "1e7abd7e-1a76-4917-a85e-ff9090a11df0",
   "metadata": {
    "tags": []
   },
   "outputs": [],
   "source": [
    "def caesar_cipher(message, shift):\n",
    "    '''Caesar Cipher.\n",
    "    10 points.\n",
    "\n",
    "    Apply a shift number to a string of uppercase English letters and spaces.\n",
    "\n",
    "    Parameters\n",
    "    ----------\n",
    "    message: str\n",
    "        a string of uppercase English letters and spaces.\n",
    "    shift: int\n",
    "        the number by which to shift the letters.\n",
    "\n",
    "    Returns\n",
    "    -------\n",
    "    str\n",
    "        the message, shifted appropriately.\n",
    "    '''\n",
    "    # Replace `pass` with your code.\n",
    "    # Stay within the function. Only use the parameters as input. The function should return your answer.\n",
    "    new = ' '.join([chr((ord(char)+shift)) if char.isalpha( ) else char for char in message])\n",
    "    return new"
   ]
  },
  {
   "cell_type": "code",
   "execution_count": 134,
   "id": "a4480448-4535-470f-b62e-e7edc1cc6e29",
   "metadata": {
    "tags": []
   },
   "outputs": [
    {
     "data": {
      "text/plain": [
       "'O H W W `   I P Y [ O K H `'"
      ]
     },
     "execution_count": 134,
     "metadata": {},
     "output_type": "execute_result"
    }
   ],
   "source": [
    "caesar_cipher('HAPPY BIRTHDAY',7)"
   ]
  },
  {
   "cell_type": "code",
   "execution_count": 121,
   "id": "756d0c02-205e-4127-aca2-d5b5af2c91b7",
   "metadata": {
    "tags": []
   },
   "outputs": [],
   "source": [
    "# note ascii of ' ' = 32\n",
    "# ascii of uppercase A-Z = 65-90\n",
    "# try doing caesar in one line ............................ bruh\n",
    "\n",
    "="
   ]
  },
  {
   "cell_type": "code",
   "execution_count": 97,
   "id": "ed702e3a-45a0-4dc1-936c-fab543f3f719",
   "metadata": {
    "tags": []
   },
   "outputs": [
    {
     "data": {
      "text/plain": [
       "[1, 4, 9, 16, 25]"
      ]
     },
     "execution_count": 97,
     "metadata": {},
     "output_type": "execute_result"
    }
   ],
   "source": [
    "L = [1,2,3,4,5]\n",
    "\n",
    "[x ** 2 for x in L]"
   ]
  },
  {
   "cell_type": "code",
   "execution_count": 190,
   "id": "545e6153-e75a-4ad3-9bf7-325c58d8efd2",
   "metadata": {
    "tags": []
   },
   "outputs": [],
   "source": [
    "def caesar_cipher(message, shift):\n",
    "    '''Caesar Cipher.\n",
    "    10 points.\n",
    "\n",
    "    Apply a shift number to a string of uppercase English letters and spaces.\n",
    "\n",
    "    Parameters\n",
    "    ----------\n",
    "    message: str\n",
    "        a string of uppercase English letters and spaces.\n",
    "    shift: int\n",
    "        the number by which to shift the letters.\n",
    "\n",
    "    Returns\n",
    "    -------\n",
    "    str\n",
    "        the message, shifted appropriately.\n",
    "    '''\n",
    "    # Replace `pass` with your code.\n",
    "    # Stay within the function. Only use the parameters as input. The function should return your answer.\n",
    "    transformed_message = []\n",
    "    for letter in message:\n",
    "        assigned_value = ord(letter)\n",
    "        shifted_value = assigned_value + shift\n",
    "        if assigned_value == 32:\n",
    "            new_letter = letter\n",
    "        elif shifted_value>90:\n",
    "            new_value = shifted_value - 26\n",
    "            new_letter = chr(new_value)\n",
    "        else:\n",
    "            new_value = shifted_value\n",
    "            new_letter = chr(new_value)\n",
    "        transformed_message.append(new_letter)\n",
    "    new = ''.join(transformed_message)\n",
    "    return new"
   ]
  },
  {
   "attachments": {},
   "cell_type": "markdown",
   "id": "8bd06ca6",
   "metadata": {},
   "source": [
    "for i in range(len(message)):\n",
    "        msg_letter = message[i]\n",
    "        key_letter = extended_key[i]\n",
    "\n",
    "        if msg_letter == ' ':\n",
    "            new_message += ' '\n",
    "        else:\n",
    "            letter_index = alphabet.index(msg_letter)\n",
    "            key_index = alphabet.index(key_letter)\n",
    "\n",
    "            shifted_index = (letter_index + key_index) % 26\n",
    "            shifted_letter = alphabet[shifted_index]\n",
    "            new_message += shifted_letter\n",
    "    return new_message"
   ]
  },
  {
   "cell_type": "code",
   "execution_count": 41,
   "id": "ef85e653",
   "metadata": {},
   "outputs": [
    {
     "ename": "SyntaxError",
     "evalue": "'return' outside function (2352642944.py, line 15)",
     "output_type": "error",
     "traceback": [
      "\u001b[0;36m  Cell \u001b[0;32mIn[41], line 15\u001b[0;36m\u001b[0m\n\u001b[0;31m    return new_message\u001b[0m\n\u001b[0m    ^\u001b[0m\n\u001b[0;31mSyntaxError\u001b[0m\u001b[0;31m:\u001b[0m 'return' outside function\n"
     ]
    }
   ],
   "source": [
    "def caesar_cipher(message, shift):\n",
    "   alphabet = 'ABCDEFGHIJKLMNOPQRSTUVWXYZ'\n",
    "   new_message = ''\n",
    "\n",
    "   for i in range(len(message)):\n",
    "        msg_letter = message[i]\n",
    "\n",
    "        if msg_letter == ' ':\n",
    "            new_message += ' '\n",
    "        else:\n",
    "            letter_index = alphabet.index(msg_letter)\n",
    "            shifted_index = (letter_index + shift) % 26\n",
    "            shifted_letter = alphabet[shifted_index]\n",
    "            new_message += shifted_letter"
   ]
  },
  {
   "cell_type": "code",
   "execution_count": 46,
   "id": "20c93fbf",
   "metadata": {},
   "outputs": [
    {
     "data": {
      "text/plain": [
       "'FYNNW ZGPRFBYW'"
      ]
     },
     "execution_count": 46,
     "metadata": {},
     "output_type": "execute_result"
    }
   ],
   "source": [
    "def caesar_cipher(message,shift):\n",
    "\n",
    "    alphabet = 'ABCDEFGHIJKLMNOPQRSTUVWXYZ'\n",
    "    new_message = ''\n",
    "\n",
    "    for i in range(len(message)):\n",
    "        letter = message[i]\n",
    "\n",
    "        if letter == ' ':\n",
    "            new_message += ' '\n",
    "        else:\n",
    "            letter_index = alphabet.index(letter)\n",
    "            shifted_index = (letter_index + shift) % 26\n",
    "            shifted_letter = alphabet[shifted_index]\n",
    "            new_message += shifted_letter\n",
    "\n",
    "    return new_message\n",
    "caesar_cipher('HAPPY BIRTHDAY',700)"
   ]
  },
  {
   "cell_type": "code",
   "execution_count": 42,
   "id": "54a6ac66-dbb1-4727-bc9e-c869600949c6",
   "metadata": {
    "tags": []
   },
   "outputs": [],
   "source": [
    "caesar_cipher('HAPPY BIRTHDAY',7)"
   ]
  },
  {
   "cell_type": "code",
   "execution_count": 9,
   "id": "e996fa54-19ff-4abe-b1ac-cf934afda477",
   "metadata": {
    "tags": []
   },
   "outputs": [
    {
     "data": {
      "text/plain": [
       "'A'"
      ]
     },
     "execution_count": 9,
     "metadata": {},
     "output_type": "execute_result"
    }
   ],
   "source": [
    "def shift_by_letter(letter, letter_shift):\n",
    "    '''Shift By Letter.\n",
    "    10 points.\n",
    "\n",
    "    Shift a letter to the right using the number equivalent of another letter.\n",
    "    The shift letter is any letter from A to Z, where A represents 0, B represents 1,\n",
    "        ..., Z represents 25.\n",
    "\n",
    "    Examples:\n",
    "    shift_by_letter(\"A\", \"A\") -> \"A\"\n",
    "    shift_by_letter(\"A\", \"C\") -> \"C\"\n",
    "    shift_by_letter(\"B\", \"K\") -> \"L\"\n",
    "    shift_by_letter(\" \", _) -> \" \"\n",
    "\n",
    "    Parameters\n",
    "    ----------\n",
    "    letter: str\n",
    "        a single uppercase English letter, or a space.\n",
    "    letter_shift: str\n",
    "        a single uppercase English letter.\n",
    "\n",
    "    Returns\n",
    "    -------\n",
    "    str\n",
    "        the letter, shifted appropriately.\n",
    "    '''\n",
    "    # Replace `pass` with your code.\n",
    "    # Stay within the function. Only use the parameters as input. The function should return your answer.\n",
    "def shift_by_letter(letter, letter_shift):\n",
    "    ALPHABET = ['A','B','C','D','E','F','G','H','I','J','K','L','M','N','O','P','Q','R','S','T','U','V','W','X','Y','Z']\n",
    "    assigned_value = ALPHABET.index(letter)\n",
    "    shift_value = ALPHABET.index(letter_shift)\n",
    "    shifted_value = assigned_value + shift_value\n",
    "    if shifted_value>25:\n",
    "        new_value = shifted_value - 26\n",
    "        new_letter = ALPHABET[new_value]\n",
    "    else:\n",
    "        new_value = shifted_value\n",
    "        new_letter = ALPHABET[new_value]\n",
    "    return new_letter\n",
    "shift_by_letter(\"C\",\"Y\")"
   ]
  },
  {
   "cell_type": "code",
   "execution_count": 35,
   "id": "c13de356",
   "metadata": {},
   "outputs": [
    {
     "name": "stdout",
     "output_type": "stream",
     "text": [
      "<enumerate object at 0x10b52c480>\n"
     ]
    }
   ],
   "source": [
    "message = 'a'\n",
    "\n",
    "print(enumerate(message))"
   ]
  },
  {
   "cell_type": "code",
   "execution_count": null,
   "id": "fdfc69c3",
   "metadata": {},
   "outputs": [],
   "source": [
    "def vigenere_cipher(message, key):\n",
    "    '''Vigenere Cipher.\n",
    "    15 points.\n",
    "\n",
    "    Encrypts a message using a keyphrase instead of a static number.\n",
    "    Every letter in the message is shifted by the number represented by the\n",
    "        respective letter in the key.\n",
    "    Spaces should be ignored.\n",
    "\n",
    "    Example:\n",
    "    vigenere_cipher(\"A C\", \"KEY\") -> \"K A\"\n",
    "\n",
    "    If needed, the keyphrase is extended to match the length of the key.\n",
    "        If the key is \"KEY\" and the message is \"LONGTEXT\",\n",
    "        the key will be extended to be \"KEYKEYKE\".\n",
    "\n",
    "    Parameters\n",
    "    ----------\n",
    "    message: str\n",
    "        a string of uppercase English letters and spaces.\n",
    "    key: str\n",
    "        a string of uppercase English letters. Will never be longer than the message.\n",
    "        Will never contain spaces.\n",
    "\n",
    "    Returns\n",
    "    -------\n",
    "    str\n",
    "        the message, shifted appropriately.\n",
    "    '''\n",
    "    # Replace `pass` with your code.\n",
    "    # Stay within the function. Only use the parameters as input. The function should return your answer.\n",
    "    transformed_message = []\n",
    "    msglist = [*message]\n",
    "    keylist = [*key]\n",
    "    alphabet = ['A', 'B', 'C', 'D', 'E', 'F', 'G', 'H', 'I', 'J', 'K', 'L', 'M', 'N', 'O', 'P', 'Q', 'R', 'S', 'T', 'U', 'V', 'W', 'X', 'Y', 'Z', ' ']\n",
    "    \n",
    "    extended_key = (key * (len(message) // len(key) + 1))[:len(message)]\n",
    "    \n",
    "    for i, letter in enumerate(message):\n",
    "        msgvalue = alphabet.index(letter)\n",
    "        keyused = extended_key[i]\n",
    "        keyvalue = alphabet.index(keyused)\n",
    "        shiftedvalue = msgvalue + keyvalue\n",
    "        \n",
    "        if msgvalue == 26:\n",
    "           shiftedvalue == 26 \n",
    "        elif shiftedvalue >= len(alphabet):\n",
    "            shiftedvalue -= len(alphabet)\n",
    "        \n",
    "        new_letter = alphabet[shiftedvalue]\n",
    "        transformed_message.append(new_letter)\n",
    "    \n",
    "    return ''.join(transformed_message)\n",
    "\n",
    "\n",
    "transformed_message = []\n",
    "    msglist = [*message]\n",
    "    keylist = [*key]\n",
    "    alphabet = ['A', 'B', 'C', 'D', 'E', 'F', 'G', 'H', 'I', 'J', 'K', 'L', 'M', 'N', 'O', 'P', 'Q', 'R', 'S', 'T', 'U', 'V', 'W', 'X', 'Y', 'Z', ' ']\n",
    "    \n",
    "    extended_key = (key * (len(message) // len(key) + 1))[:len(message)]\n",
    "    \n",
    "    for i, letter in enumerate(message):\n",
    "        msgvalue = alphabet.index(letter)\n",
    "        keyused = extended_key[i]\n",
    "        keyvalue = alphabet.index(keyused)\n",
    "        shiftedvalue = msgvalue + keyvalue\n",
    "        \n",
    "        if msgvalue == 26:\n",
    "           shiftedvalue == 26 \n",
    "        elif shiftedvalue >= len(alphabet):\n",
    "            shiftedvalue -= len(alphabet)\n",
    "        \n",
    "        new_letter = alphabet[shiftedvalue]\n",
    "        transformed_message.append(new_letter)\n",
    "    \n",
    "    return ''.join(transformed_message)"
   ]
  },
  {
   "cell_type": "code",
   "execution_count": 44,
   "id": "05f2b2eb",
   "metadata": {},
   "outputs": [],
   "source": [
    "def vigenere_cipher(message, key):\n",
    "    '''Vigenere Cipher.\n",
    "    15 points.\n",
    "\n",
    "    Encrypts a message using a keyphrase instead of a static number.\n",
    "    Every letter in the message is shifted by the number represented by the\n",
    "        respective letter in the key.\n",
    "    Spaces should be ignored.\n",
    "\n",
    "    Example:\n",
    "    vigenere_cipher(\"A C\", \"KEY\") -> \"K A\"\n",
    "\n",
    "    If needed, the keyphrase is extended to match the length of the key.\n",
    "        If the key is \"KEY\" and the message is \"LONGTEXT\",\n",
    "        the key will be extended to be \"KEYKEYKE\".\n",
    "\n",
    "    Parameters\n",
    "    ----------\n",
    "    message: str\n",
    "        a string of uppercase English letters and spaces.\n",
    "    key: str\n",
    "        a string of uppercase English letters. Will never be longer than the message.\n",
    "        Will never contain spaces.\n",
    "\n",
    "    Returns\n",
    "    -------\n",
    "    str\n",
    "        the message, shifted appropriately.\n",
    "    '''\n",
    "    # Replace `pass` with your code.\n",
    "    # Stay within the function. Only use the parameters as input. The function should return your answer.\n",
    "    alphabet = \"ABCDEFGHIJKLMNOPQRSTUVWXYZ\"\n",
    "    new_message = \"\"\n",
    "\n",
    "    extended_key = (key * (len(message) // len(key) + 1))[:len(message)]\n",
    "\n",
    "    for i in range(len(message)):\n",
    "        msg_letter = message[i]\n",
    "        key_letter = extended_key[i]\n",
    "\n",
    "        if msg_letter == ' ':\n",
    "            new_message += ' '\n",
    "        else:\n",
    "            letter_index = alphabet.index(msg_letter)\n",
    "            key_index = alphabet.index(key_letter)\n",
    "\n",
    "            shifted_index = (letter_index + key_index) % 26\n",
    "            shifted_letter = alphabet[shifted_index]\n",
    "            new_message += shifted_letter\n",
    "    return new_message\n"
   ]
  },
  {
   "cell_type": "code",
   "execution_count": 48,
   "id": "da5ac561",
   "metadata": {},
   "outputs": [
    {
     "data": {
      "text/plain": [
       "'B C D'"
      ]
     },
     "execution_count": 48,
     "metadata": {},
     "output_type": "execute_result"
    }
   ],
   "source": [
    "vigenere_cipher(\"A B C\", \"B\")"
   ]
  },
  {
   "cell_type": "code",
   "execution_count": 40,
   "id": "7270177d",
   "metadata": {},
   "outputs": [
    {
     "data": {
      "text/plain": [
       "'IMNNA_FTAOIGROE'"
      ]
     },
     "execution_count": 40,
     "metadata": {},
     "output_type": "execute_result"
    }
   ],
   "source": [
    "def scytale_cipher(message, shift):\n",
    "    '''Scytale Cipher.\n",
    "    15 points.\n",
    "\n",
    "    Encrypts a message by simulating a scytale cipher.\n",
    "\n",
    "    A scytale is a cylinder around which you can wrap a long strip of\n",
    "        parchment that contained a string of apparent gibberish. The parchment,\n",
    "        when read using the scytale, would reveal a message due to every nth\n",
    "        letter now appearing next to each other, revealing a proper message.\n",
    "    This encryption method is obsolete and should never be used to encrypt\n",
    "        data in production settings.\n",
    "\n",
    "    You may read more about the method here:\n",
    "        https://en.wikipedia.org/wiki/Scytale\n",
    "\n",
    "    You may follow this algorithm to implement a scytale-style cipher:\n",
    "    1. Take a message to be encoded and a \"shift\" number.\n",
    "        For this example, we will use \"INFORMATION_AGE\" as\n",
    "        the message and 3 as the shift.\n",
    "    2. Check if the length of the message is a multiple of\n",
    "        the shift. If it is not, add additional underscores\n",
    "        to the end of the message until it is.\n",
    "        In this example, \"INFORMATION_AGE\" is already a multiple of 3,\n",
    "        so we will leave it alone.\n",
    "    3. This is the tricky part. Construct the encoded message.\n",
    "        For each index i in the encoded message, use the character at the index\n",
    "        (i // shift) + (len(message) // shift) * (i % shift) of the raw message.\n",
    "        If this number doesn't make sense, you can play around with the cipher at\n",
    "         https://dencode.com/en/cipher/scytale to try to understand it.\n",
    "    4. Return the encoded message. In this case,\n",
    "        the output should be \"IMNNA_FTAOIGROE\".\n",
    "\n",
    "    Example:\n",
    "    scytale_cipher(\"INFORMATION_AGE\", 3) -> \"IMNNA_FTAOIGROE\"\n",
    "    scytale_cipher(\"INFORMATION_AGE\", 4) -> \"IRIANMOGFANEOT__\"\n",
    "    scytale_cipher(\"ALGORITHMS_ARE_IMPORTANT\", 8) -> \"AOTSRIOALRH_EMRNGIMA_PTT\"\n",
    "\n",
    "    Parameters\n",
    "    ----------\n",
    "    message: str\n",
    "        a string of uppercase English letters and underscores (underscores represent spaces)\n",
    "    shift: int\n",
    "        a positive int that does not exceed the length of message\n",
    "\n",
    "    Returns\n",
    "    -------\n",
    "    str\n",
    "        the encoded message\n",
    "    '''\n",
    "    # Replace `pass` with your code.\n",
    "    # Stay within the function. Only use the parameters as input. The function should return your answer.\n",
    "    new_message = ''\n",
    "    remainder = len(message) % shift\n",
    "\n",
    "    if remainder > 0:\n",
    "        characters_needed = shift - remainder\n",
    "        message += ('_' * characters_needed)\n",
    "    \n",
    "    for i in range(len(message)):\n",
    "        shifted_letter_index = ((i // shift) + (len(message) // shift) * (i % shift))\n",
    "        shifted_letter = message[shifted_letter_index]\n",
    "        new_message += shifted_letter\n",
    "    return new_message\n",
    "scytale_cipher(\"INFORMATION_AGE\", 3)\n"
   ]
  },
  {
   "cell_type": "code",
   "execution_count": 44,
   "id": "fd5f79aa",
   "metadata": {},
   "outputs": [
    {
     "name": "stdout",
     "output_type": "stream",
     "text": [
      "true\n"
     ]
    }
   ],
   "source": [
    "if scytale_cipher(\"INFORMATION_AGE\", 4) == \"IRIANMOGFANEOT__\":\n",
    "    print('true')"
   ]
  },
  {
   "cell_type": "code",
   "execution_count": 76,
   "metadata": {},
   "outputs": [
    {
     "data": {
      "text/plain": [
       "'INFORMATION_AGE'"
      ]
     },
     "execution_count": 76,
     "metadata": {},
     "output_type": "execute_result"
    }
   ],
   "source": [
    "def scytale_decipher(message, shift): # NEED A LITTLE HELP\n",
    "    '''Scytale De-cipher.\n",
    "    15 points.\n",
    "\n",
    "    Decrypts a message that was originally encrypted with the `scytale_cipher` function above.\n",
    "\n",
    "    Example:\n",
    "    scytale_decipher(\"IMNNA_FTAOIGROE\", 3) -> \"INFORMATION_AGE\"\n",
    "    scytale_decipher(\"AOTSRIOALRH_EMRNGIMA_PTT\", 8) -> \"ALGORITHMS_ARE_IMPORTANT\"\n",
    "    scytale_decipher(\"IRIANMOGFANEOT__\", 4) -> \"INFORMATION_AGE_\"\n",
    "\n",
    "    There is no further brief for this number.\n",
    "\n",
    "    Parameters\n",
    "    ----------\n",
    "    message: str\n",
    "        a string of uppercase English letters and underscores (underscores represent spaces)\n",
    "    shift: int\n",
    "        a positive int that does not exceed the length of message\n",
    "\n",
    "    Returns\n",
    "    -------\n",
    "    str\n",
    "        the decoded message\n",
    "    '''\n",
    "    # Replace `pass` with your code.\n",
    "    # Stay within the function. Only use the parameters as input. The function should return your answer.\n",
    "    deciphered_msg = ''\n",
    "    cycle_length = len(message) // shift\n",
    "\n",
    "    for i in range(len(message)):\n",
    "        og_letter_index = (i // cycle_length) + (i % cycle_length) * shift\n",
    "        og_letter = message[og_letter_index]\n",
    "        deciphered_msg += og_letter\n",
    "    \n",
    "    return deciphered_msg\n",
    "scytale_decipher(\"IMNNA_FTAOIGROE\", 3)"
   ]
  },
  {
   "cell_type": "code",
   "execution_count": 5,
   "id": "b87bc1c7",
   "metadata": {},
   "outputs": [
    {
     "data": {
      "text/plain": [
       "'Z'"
      ]
     },
     "execution_count": 5,
     "metadata": {},
     "output_type": "execute_result"
    }
   ],
   "source": [
    "def shift_by_letter(letter, letter_shift):\n",
    "    '''Shift By Letter.\n",
    "    10 points.\n",
    "\n",
    "    Shift a letter to the right using the number equivalent of another letter.\n",
    "    The shift letter is any letter from A to Z, where A represents 0, B represents 1,\n",
    "        ..., Z represents 25.\n",
    "\n",
    "    Examples:\n",
    "    shift_by_letter(\"A\", \"A\") -> \"A\"\n",
    "    shift_by_letter(\"A\", \"C\") -> \"C\"\n",
    "    shift_by_letter(\"B\", \"K\") -> \"L\"\n",
    "    shift_by_letter(\" \", _) -> \" \"\n",
    "\n",
    "    Parameters\n",
    "    ----------\n",
    "    letter: str\n",
    "        a single uppercase English letter, or a space.\n",
    "    letter_shift: str\n",
    "        a single uppercase English letter.\n",
    "\n",
    "    Returns\n",
    "    -------\n",
    "    str\n",
    "        the letter, shifted appropriately.\n",
    "    '''\n",
    "    # Replace `pass` with your code.\n",
    "    # Stay within the function. Only use the parameters as input. The function should return your answer.\n",
    "    alphabet = \"ABCDEFGHIJKLMNOPQRSTUVWXYZ\"\n",
    "\n",
    "    if letter == ' ':\n",
    "        shifted_letter = ' '\n",
    "    else:\n",
    "        letter_index = alphabet.index(letter)\n",
    "        key_index = alphabet.index(letter_shift)\n",
    "\n",
    "        shifted_index = (letter_index + key_index) % 26\n",
    "        shifted_letter = alphabet[shifted_index]\n",
    "    return shifted_letter\n",
    "shift_by_letter('Z', 'A')"
   ]
  }
 ],
 "metadata": {
  "kernelspec": {
   "display_name": "Python 3 (ipykernel)",
   "language": "python",
   "name": "python3"
  },
  "language_info": {
   "codemirror_mode": {
    "name": "ipython",
    "version": 3
   },
   "file_extension": ".py",
   "mimetype": "text/x-python",
   "name": "python",
   "nbconvert_exporter": "python",
   "pygments_lexer": "ipython3",
   "version": "3.10.9"
  }
 },
 "nbformat": 4,
 "nbformat_minor": 5
}
