{
 "cells": [
  {
   "cell_type": "code",
   "execution_count": 35,
   "metadata": {},
   "outputs": [
    {
     "data": {
      "text/plain": [
       "'friends'"
      ]
     },
     "execution_count": 35,
     "metadata": {},
     "output_type": "execute_result"
    }
   ],
   "source": [
    "def relationship_status(from_member, to_member, social_graph):\n",
    "    '''Relationship Status.\n",
    "    20 points.\n",
    "\n",
    "    Let us pretend that you are building a new app.\n",
    "    Your app supports social media functionality, which means that users can have\n",
    "    relationships with other users.\n",
    "\n",
    "    There are two guidelines for describing relationships on this social media app:\n",
    "    1. Any user can follow any other user.\n",
    "    2. If two users follow each other, they are considered friends.\n",
    "\n",
    "    This function describes the relationship that two users have with each other.\n",
    "\n",
    "    Please see \"assignment-4-sample-data.py\" for sample data. The social graph\n",
    "    will adhere to the same pattern.\n",
    "\n",
    "    Parameters\n",
    "    ----------\n",
    "    from_member: str\n",
    "        the subject member\n",
    "    to_member: str\n",
    "        the object member\n",
    "    social_graph: dict\n",
    "        the relationship data\n",
    "\n",
    "    Returns\n",
    "    -------\n",
    "    str\n",
    "        \"follower\" if fromMember follows toMember,\n",
    "        \"followed by\" if fromMember is followed by toMember,\n",
    "        \"friends\" if fromMember and toMember follow each other,\n",
    "        \"no relationship\" if neither fromMember nor toMember follow each other.\n",
    "    '''\n",
    "    # Replace `pass` with your code.\n",
    "    # Stay within the function. Only use the parameters as input. The function should return your answer.\n",
    "    # sample data\n",
    "    \n",
    "    from_mem_info = social_graph[from_member]\n",
    "    to_mem_info = social_graph[to_member]\n",
    "\n",
    "    from_mem_following = from_mem_info[\"following\"]\n",
    "    to_mem_following = to_mem_info[\"following\"]\n",
    "\n",
    "    if (to_member in from_mem_following) and (from_member in to_mem_following):\n",
    "        return \"friends\"\n",
    "    elif (to_member in from_mem_following):\n",
    "        return \"follower\"\n",
    "    elif (from_member in to_mem_following):\n",
    "        return \"followed by\"\n",
    "    else:\n",
    "        return \"no relationship\""
   ]
  },
  {
   "cell_type": "code",
   "execution_count": 11,
   "metadata": {},
   "outputs": [
    {
     "data": {
      "text/plain": [
       "'X'"
      ]
     },
     "execution_count": 11,
     "metadata": {},
     "output_type": "execute_result"
    }
   ],
   "source": [
    "def tic_tac_toe(board):\n",
    "    '''Tic Tac Toe.\n",
    "    25 points.\n",
    "\n",
    "    Tic Tac Toe is a common paper-and-pencil game.\n",
    "    Players must attempt to successfully draw a straight line of their symbol across a grid.\n",
    "    The player that does this first is considered the winner.\n",
    "\n",
    "    This function evaluates a tic tac toe board and returns the winner.\n",
    "\n",
    "    Please see \"assignment-4-sample-data.py\" for sample data. The board will adhere\n",
    "    to the same pattern. The board may by 3x3, 4x4, 5x5, or 6x6. The board will never\n",
    "    have more than one winner. The board will only ever have 2 unique symbols at the same time.\n",
    "\n",
    "    Parameters\n",
    "    ----------\n",
    "    board: list\n",
    "        the representation of the tic-tac-toe board as a square list of lists\n",
    "\n",
    "    Returns\n",
    "    -------\n",
    "    str\n",
    "        the symbol of the winner or \"NO WINNER\" if there is no winner\n",
    "    '''\n",
    "    # Replace `pass` with your code.\n",
    "    # Stay within the function. Only use the parameters as input. The function should return your answer.\n",
    "    \n",
    "    #horizontal\n",
    "    for row in board:\n",
    "        if len(set(row)) == 1:\n",
    "            if set(row) == {''}:\n",
    "                return 'NO WINNER'\n",
    "            else:\n",
    "                return row[0]\n",
    "        \n",
    "    #vertical\n",
    "    for col in range(len(board[0])):\n",
    "        column = [board[row][col] for row in range(len(board))]\n",
    "        if len(set(column)) == 1:\n",
    "            if set(column) == {''}:\n",
    "                return 'NO WINNER'\n",
    "            else:\n",
    "                return column[0]\n",
    "\n",
    "    #diagonal   \n",
    "    diagonal = [board[i][i] for i in range(len(board))]\n",
    "    if len(set(diagonal)) == 1:\n",
    "        if set(diagonal) == {''}:\n",
    "            return 'NO WINNER'\n",
    "        else:\n",
    "            return diagonal[0]\n",
    "    \n",
    "    diagonal2 = [board[i][len(board) - 1 - i] for i in range(len(board))]\n",
    "    if len(set(diagonal2)) == 1:\n",
    "        if set(diagonal2) == {''}:\n",
    "            return 'NO WINNER'\n",
    "        else:\n",
    "            return diagonal2[0]\n",
    "    \n",
    "    return 'NO WINNER'\n",
    "\n",
    "tic_tac_toe([\n",
    "['X','O',''],\n",
    "['X','','O'],\n",
    "['X','O',''],\n",
    "])\n"
   ]
  },
  {
   "cell_type": "code",
   "execution_count": 3,
   "metadata": {},
   "outputs": [
    {
     "name": "stdout",
     "output_type": "stream",
     "text": [
      "3\n"
     ]
    }
   ],
   "source": [
    "print(len([\n",
    "['X','X',''],\n",
    "['O','X','O'],\n",
    "['O','X',''],\n",
    "]))"
   ]
  },
  {
   "cell_type": "code",
   "execution_count": 14,
   "metadata": {},
   "outputs": [],
   "source": [
    "def eta(first_stop, second_stop, route_map):\n",
    "    '''ETA.\n",
    "    25 points.\n",
    "\n",
    "    A shuttle van service is tasked to travel along a predefined circlar route.\n",
    "    This route is divided into several legs between stops.\n",
    "    The route is one-way only, and it is fully connected to itself.\n",
    "\n",
    "    This function returns how long it will take the shuttle to arrive at a stop\n",
    "    after leaving another stop.\n",
    "\n",
    "    Please see \"mod-4-ipa-1-sample-data.py\" for sample data. The route map will\n",
    "    adhere to the same pattern. The route map may contain more legs and more stops,\n",
    "    but it will always be one-way and fully enclosed.\n",
    "\n",
    "    Parameters\n",
    "    ----------\n",
    "    first_stop: str\n",
    "        the stop that the shuttle will leave\n",
    "    second_stop: str\n",
    "        the stop that the shuttle will arrive at\n",
    "    route_map: dict\n",
    "        the data describing the routes\n",
    "\n",
    "    Returns\n",
    "    -------\n",
    "    int\n",
    "        the time it will take the shuttle to travel from first_stop to second_stop\n",
    "    '''\n",
    "    # Replace `pass` with your code.\n",
    "    # Stay within the function. Only use the parameters as input. The function should return your answer.\n",
    "    pass\n",
    "\n",
    "    # check if first stop is in first index of the truple in list\n",
    "    # check if second stop is in second index of same list, if not, get the time, n check the next list, so on\n",
    "\n",
    "    start_leg_index = ''\n",
    "    keys_tuple = tuple(route_map.keys())\n",
    "\n",
    "    # finding where start_stop = first stop\n",
    "    for leg in range(len(keys_tuple)):\n",
    "        if keys_tuple[leg][0] == first_stop:\n",
    "            start_leg_index = leg\n",
    "\n",
    "    if start_leg_index == '': # stop is not in map\n",
    "        return \"First stop not found.\"\n",
    "    \n",
    "    # getting eta\n",
    "    if first_stop == second_stop:\n",
    "        eta_mins = 0\n",
    "    \n",
    "    for leg in range(len(keys_tuple)):\n",
    "        if keys_tuple[leg][1] == second_stop:"
   ]
  },
  {
   "cell_type": "code",
   "execution_count": 15,
   "metadata": {},
   "outputs": [
    {
     "name": "stdout",
     "output_type": "stream",
     "text": [
      "(('upd', 'admu'), ('admu', 'dlsu'), ('dlsu', 'upd'))\n"
     ]
    }
   ],
   "source": [
    "route_map = {\n",
    "     (\"upd\",\"admu\"):{\n",
    "         \"travel_time_mins\":10\n",
    "     },\n",
    "     (\"admu\",\"dlsu\"):{\n",
    "         \"travel_time_mins\":35\n",
    "     },\n",
    "     (\"dlsu\",\"upd\"):{\n",
    "         \"travel_time_mins\":55\n",
    "     }\n",
    "}\n",
    "\n",
    "start_leg_index = ''\n",
    "legs_keys = tuple(route_map.keys())\n",
    "\n",
    "    # finding where start_stop = first stop\n",
    "\n",
    "print(legs_keys)"
   ]
  }
 ],
 "metadata": {
  "kernelspec": {
   "display_name": "Python 3",
   "language": "python",
   "name": "python3"
  },
  "language_info": {
   "codemirror_mode": {
    "name": "ipython",
    "version": 3
   },
   "file_extension": ".py",
   "mimetype": "text/x-python",
   "name": "python",
   "nbconvert_exporter": "python",
   "pygments_lexer": "ipython3",
   "version": "3.11.3"
  },
  "orig_nbformat": 4
 },
 "nbformat": 4,
 "nbformat_minor": 2
}
